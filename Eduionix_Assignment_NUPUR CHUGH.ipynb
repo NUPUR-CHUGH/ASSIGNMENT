{
  "nbformat": 4,
  "nbformat_minor": 0,
  "metadata": {
    "colab": {
      "provenance": [],
      "include_colab_link": true
    },
    "kernelspec": {
      "name": "python3",
      "display_name": "Python 3"
    },
    "language_info": {
      "name": "python"
    }
  },
  "cells": [
    {
      "cell_type": "markdown",
      "metadata": {
        "id": "view-in-github",
        "colab_type": "text"
      },
      "source": [
        "<a href=\"https://colab.research.google.com/github/NUPUR-CHUGH/ASSIGNMENT/blob/main/Eduionix_Assignment_NUPUR%20CHUGH.ipynb\" target=\"_parent\"><img src=\"https://colab.research.google.com/assets/colab-badge.svg\" alt=\"Open In Colab\"/></a>"
      ]
    },
    {
      "cell_type": "code",
      "execution_count": null,
      "metadata": {
        "id": "l0WitG53U3wz"
      },
      "outputs": [],
      "source": [
        "\n",
        "import pandas as pd\n",
        "from datetime import datetime\n",
        "import numpy as np"
      ]
    },
    {
      "cell_type": "code",
      "source": [
        "df=pd.read_csv(\"/content/data_eduonix.csv\")"
      ],
      "metadata": {
        "id": "-fAXa0m9ViLG"
      },
      "execution_count": null,
      "outputs": []
    },
    {
      "cell_type": "code",
      "source": [
        "from google.colab import drive\n",
        "drive.mount('/content/drive')"
      ],
      "metadata": {
        "colab": {
          "base_uri": "https://localhost:8080/"
        },
        "id": "yPtJmsMqf85D",
        "outputId": "818615d2-8cd7-46d6-946e-9e1f956072aa"
      },
      "execution_count": null,
      "outputs": [
        {
          "output_type": "stream",
          "name": "stdout",
          "text": [
            "Mounted at /content/drive\n"
          ]
        }
      ]
    },
    {
      "cell_type": "code",
      "source": [
        "df.head()"
      ],
      "metadata": {
        "colab": {
          "base_uri": "https://localhost:8080/",
          "height": 374
        },
        "id": "0Ie973w8VwnZ",
        "outputId": "71bf09ee-1f1a-4409-b954-2053ec42006a"
      },
      "execution_count": null,
      "outputs": [
        {
          "output_type": "execute_result",
          "data": {
            "text/plain": [
              "   Unnamed: 0  customer_Id       DOB Gender  city_code  transaction_id  \\\n",
              "0           0       268408  2/1/1970      M        4.0     87243835584   \n",
              "1           1       268408  2/1/1970      M        4.0     87243835584   \n",
              "2           2       268408  2/1/1970      M        4.0     87243835584   \n",
              "3           3       268408  2/1/1970      M        4.0     87243835584   \n",
              "4           4       268408  2/1/1970      M        4.0     87243835584   \n",
              "\n",
              "   cust_id   tran_date  prod_subcat_code  prod_cat_code  Qty  Rate     Tax  \\\n",
              "0   268408  13-01-2014                 7              5    5   187  98.175   \n",
              "1   268408  13-01-2014                 7              5    5   187  98.175   \n",
              "2   268408  13-01-2014                 7              5    5   187  98.175   \n",
              "3   268408  13-01-2014                 7              5    5   187  98.175   \n",
              "4   268408  13-01-2014                 7              5    5   187  98.175   \n",
              "\n",
              "   total_amt Store_type _merge prod_cat  prod_sub_cat_code  prod_subcat  \n",
              "0   1033.175   TeleShop   both    Books                  7      Fiction  \n",
              "1   1033.175   TeleShop   both    Books                 12     Academic  \n",
              "2   1033.175   TeleShop   both    Books                 10  Non-Fiction  \n",
              "3   1033.175   TeleShop   both    Books                 11     Children  \n",
              "4   1033.175   TeleShop   both    Books                  3       Comics  "
            ],
            "text/html": [
              "\n",
              "  <div id=\"df-1fceb917-6aa3-4f81-8be7-8235a5f5aafc\">\n",
              "    <div class=\"colab-df-container\">\n",
              "      <div>\n",
              "<style scoped>\n",
              "    .dataframe tbody tr th:only-of-type {\n",
              "        vertical-align: middle;\n",
              "    }\n",
              "\n",
              "    .dataframe tbody tr th {\n",
              "        vertical-align: top;\n",
              "    }\n",
              "\n",
              "    .dataframe thead th {\n",
              "        text-align: right;\n",
              "    }\n",
              "</style>\n",
              "<table border=\"1\" class=\"dataframe\">\n",
              "  <thead>\n",
              "    <tr style=\"text-align: right;\">\n",
              "      <th></th>\n",
              "      <th>Unnamed: 0</th>\n",
              "      <th>customer_Id</th>\n",
              "      <th>DOB</th>\n",
              "      <th>Gender</th>\n",
              "      <th>city_code</th>\n",
              "      <th>transaction_id</th>\n",
              "      <th>cust_id</th>\n",
              "      <th>tran_date</th>\n",
              "      <th>prod_subcat_code</th>\n",
              "      <th>prod_cat_code</th>\n",
              "      <th>Qty</th>\n",
              "      <th>Rate</th>\n",
              "      <th>Tax</th>\n",
              "      <th>total_amt</th>\n",
              "      <th>Store_type</th>\n",
              "      <th>_merge</th>\n",
              "      <th>prod_cat</th>\n",
              "      <th>prod_sub_cat_code</th>\n",
              "      <th>prod_subcat</th>\n",
              "    </tr>\n",
              "  </thead>\n",
              "  <tbody>\n",
              "    <tr>\n",
              "      <th>0</th>\n",
              "      <td>0</td>\n",
              "      <td>268408</td>\n",
              "      <td>2/1/1970</td>\n",
              "      <td>M</td>\n",
              "      <td>4.0</td>\n",
              "      <td>87243835584</td>\n",
              "      <td>268408</td>\n",
              "      <td>13-01-2014</td>\n",
              "      <td>7</td>\n",
              "      <td>5</td>\n",
              "      <td>5</td>\n",
              "      <td>187</td>\n",
              "      <td>98.175</td>\n",
              "      <td>1033.175</td>\n",
              "      <td>TeleShop</td>\n",
              "      <td>both</td>\n",
              "      <td>Books</td>\n",
              "      <td>7</td>\n",
              "      <td>Fiction</td>\n",
              "    </tr>\n",
              "    <tr>\n",
              "      <th>1</th>\n",
              "      <td>1</td>\n",
              "      <td>268408</td>\n",
              "      <td>2/1/1970</td>\n",
              "      <td>M</td>\n",
              "      <td>4.0</td>\n",
              "      <td>87243835584</td>\n",
              "      <td>268408</td>\n",
              "      <td>13-01-2014</td>\n",
              "      <td>7</td>\n",
              "      <td>5</td>\n",
              "      <td>5</td>\n",
              "      <td>187</td>\n",
              "      <td>98.175</td>\n",
              "      <td>1033.175</td>\n",
              "      <td>TeleShop</td>\n",
              "      <td>both</td>\n",
              "      <td>Books</td>\n",
              "      <td>12</td>\n",
              "      <td>Academic</td>\n",
              "    </tr>\n",
              "    <tr>\n",
              "      <th>2</th>\n",
              "      <td>2</td>\n",
              "      <td>268408</td>\n",
              "      <td>2/1/1970</td>\n",
              "      <td>M</td>\n",
              "      <td>4.0</td>\n",
              "      <td>87243835584</td>\n",
              "      <td>268408</td>\n",
              "      <td>13-01-2014</td>\n",
              "      <td>7</td>\n",
              "      <td>5</td>\n",
              "      <td>5</td>\n",
              "      <td>187</td>\n",
              "      <td>98.175</td>\n",
              "      <td>1033.175</td>\n",
              "      <td>TeleShop</td>\n",
              "      <td>both</td>\n",
              "      <td>Books</td>\n",
              "      <td>10</td>\n",
              "      <td>Non-Fiction</td>\n",
              "    </tr>\n",
              "    <tr>\n",
              "      <th>3</th>\n",
              "      <td>3</td>\n",
              "      <td>268408</td>\n",
              "      <td>2/1/1970</td>\n",
              "      <td>M</td>\n",
              "      <td>4.0</td>\n",
              "      <td>87243835584</td>\n",
              "      <td>268408</td>\n",
              "      <td>13-01-2014</td>\n",
              "      <td>7</td>\n",
              "      <td>5</td>\n",
              "      <td>5</td>\n",
              "      <td>187</td>\n",
              "      <td>98.175</td>\n",
              "      <td>1033.175</td>\n",
              "      <td>TeleShop</td>\n",
              "      <td>both</td>\n",
              "      <td>Books</td>\n",
              "      <td>11</td>\n",
              "      <td>Children</td>\n",
              "    </tr>\n",
              "    <tr>\n",
              "      <th>4</th>\n",
              "      <td>4</td>\n",
              "      <td>268408</td>\n",
              "      <td>2/1/1970</td>\n",
              "      <td>M</td>\n",
              "      <td>4.0</td>\n",
              "      <td>87243835584</td>\n",
              "      <td>268408</td>\n",
              "      <td>13-01-2014</td>\n",
              "      <td>7</td>\n",
              "      <td>5</td>\n",
              "      <td>5</td>\n",
              "      <td>187</td>\n",
              "      <td>98.175</td>\n",
              "      <td>1033.175</td>\n",
              "      <td>TeleShop</td>\n",
              "      <td>both</td>\n",
              "      <td>Books</td>\n",
              "      <td>3</td>\n",
              "      <td>Comics</td>\n",
              "    </tr>\n",
              "  </tbody>\n",
              "</table>\n",
              "</div>\n",
              "      <button class=\"colab-df-convert\" onclick=\"convertToInteractive('df-1fceb917-6aa3-4f81-8be7-8235a5f5aafc')\"\n",
              "              title=\"Convert this dataframe to an interactive table.\"\n",
              "              style=\"display:none;\">\n",
              "        \n",
              "  <svg xmlns=\"http://www.w3.org/2000/svg\" height=\"24px\"viewBox=\"0 0 24 24\"\n",
              "       width=\"24px\">\n",
              "    <path d=\"M0 0h24v24H0V0z\" fill=\"none\"/>\n",
              "    <path d=\"M18.56 5.44l.94 2.06.94-2.06 2.06-.94-2.06-.94-.94-2.06-.94 2.06-2.06.94zm-11 1L8.5 8.5l.94-2.06 2.06-.94-2.06-.94L8.5 2.5l-.94 2.06-2.06.94zm10 10l.94 2.06.94-2.06 2.06-.94-2.06-.94-.94-2.06-.94 2.06-2.06.94z\"/><path d=\"M17.41 7.96l-1.37-1.37c-.4-.4-.92-.59-1.43-.59-.52 0-1.04.2-1.43.59L10.3 9.45l-7.72 7.72c-.78.78-.78 2.05 0 2.83L4 21.41c.39.39.9.59 1.41.59.51 0 1.02-.2 1.41-.59l7.78-7.78 2.81-2.81c.8-.78.8-2.07 0-2.86zM5.41 20L4 18.59l7.72-7.72 1.47 1.35L5.41 20z\"/>\n",
              "  </svg>\n",
              "      </button>\n",
              "      \n",
              "  <style>\n",
              "    .colab-df-container {\n",
              "      display:flex;\n",
              "      flex-wrap:wrap;\n",
              "      gap: 12px;\n",
              "    }\n",
              "\n",
              "    .colab-df-convert {\n",
              "      background-color: #E8F0FE;\n",
              "      border: none;\n",
              "      border-radius: 50%;\n",
              "      cursor: pointer;\n",
              "      display: none;\n",
              "      fill: #1967D2;\n",
              "      height: 32px;\n",
              "      padding: 0 0 0 0;\n",
              "      width: 32px;\n",
              "    }\n",
              "\n",
              "    .colab-df-convert:hover {\n",
              "      background-color: #E2EBFA;\n",
              "      box-shadow: 0px 1px 2px rgba(60, 64, 67, 0.3), 0px 1px 3px 1px rgba(60, 64, 67, 0.15);\n",
              "      fill: #174EA6;\n",
              "    }\n",
              "\n",
              "    [theme=dark] .colab-df-convert {\n",
              "      background-color: #3B4455;\n",
              "      fill: #D2E3FC;\n",
              "    }\n",
              "\n",
              "    [theme=dark] .colab-df-convert:hover {\n",
              "      background-color: #434B5C;\n",
              "      box-shadow: 0px 1px 3px 1px rgba(0, 0, 0, 0.15);\n",
              "      filter: drop-shadow(0px 1px 2px rgba(0, 0, 0, 0.3));\n",
              "      fill: #FFFFFF;\n",
              "    }\n",
              "  </style>\n",
              "\n",
              "      <script>\n",
              "        const buttonEl =\n",
              "          document.querySelector('#df-1fceb917-6aa3-4f81-8be7-8235a5f5aafc button.colab-df-convert');\n",
              "        buttonEl.style.display =\n",
              "          google.colab.kernel.accessAllowed ? 'block' : 'none';\n",
              "\n",
              "        async function convertToInteractive(key) {\n",
              "          const element = document.querySelector('#df-1fceb917-6aa3-4f81-8be7-8235a5f5aafc');\n",
              "          const dataTable =\n",
              "            await google.colab.kernel.invokeFunction('convertToInteractive',\n",
              "                                                     [key], {});\n",
              "          if (!dataTable) return;\n",
              "\n",
              "          const docLinkHtml = 'Like what you see? Visit the ' +\n",
              "            '<a target=\"_blank\" href=https://colab.research.google.com/notebooks/data_table.ipynb>data table notebook</a>'\n",
              "            + ' to learn more about interactive tables.';\n",
              "          element.innerHTML = '';\n",
              "          dataTable['output_type'] = 'display_data';\n",
              "          await google.colab.output.renderOutput(dataTable, element);\n",
              "          const docLink = document.createElement('div');\n",
              "          docLink.innerHTML = docLinkHtml;\n",
              "          element.appendChild(docLink);\n",
              "        }\n",
              "      </script>\n",
              "    </div>\n",
              "  </div>\n",
              "  "
            ]
          },
          "metadata": {},
          "execution_count": 6
        }
      ]
    },
    {
      "cell_type": "markdown",
      "source": [
        "**Q.1)** 10 bottom observations and column names with their types of data."
      ],
      "metadata": {
        "id": "xq7nLZL6XxP3"
      }
    },
    {
      "cell_type": "code",
      "source": [
        "df1=df.tail(10) # Q.1) 10 bottom observations "
      ],
      "metadata": {
        "id": "RZbFM8-aVxtD"
      },
      "execution_count": null,
      "outputs": []
    },
    {
      "cell_type": "code",
      "source": [
        "df1 "
      ],
      "metadata": {
        "colab": {
          "base_uri": "https://localhost:8080/",
          "height": 791
        },
        "id": "kqCL8dauV5Kc",
        "outputId": "5ae0d4a4-8e29-42e6-b9ef-5e89adf67b9a"
      },
      "execution_count": null,
      "outputs": [
        {
          "output_type": "execute_result",
          "data": {
            "text/plain": [
              "       Unnamed: 0  customer_Id       DOB Gender  city_code  transaction_id  \\\n",
              "28158       28158       271633  20-10-87      M        6.0      3041357146   \n",
              "28159       28159       271633  20-10-87      M        6.0      3041357146   \n",
              "28160       28160       271633  20-10-87      M        6.0      3041357146   \n",
              "28161       28161       271633  20-10-87      M        6.0      3041357146   \n",
              "28162       28162       271633  20-10-87      M        6.0      3041357146   \n",
              "28163       28163       271633  20-10-87      M        6.0      3041357146   \n",
              "28164       28164       271633  20-10-87      M        6.0      3041357146   \n",
              "28165       28165       271633  20-10-87      M        6.0      3041357146   \n",
              "28166       28166       271633  20-10-87      M        6.0      3041357146   \n",
              "28167       28167       271633  20-10-87      M        6.0      3041357146   \n",
              "\n",
              "       cust_id   tran_date  prod_subcat_code  prod_cat_code  Qty  Rate  \\\n",
              "28158   271633  21-06-2011                12              5   -3 -1224   \n",
              "28159   271633  21-06-2011                12              5   -3 -1224   \n",
              "28160   271633  21-06-2011                12              5   -3 -1224   \n",
              "28161   271633  21-06-2011                12              5   -3 -1224   \n",
              "28162   271633  21-06-2011                12              5   -3 -1224   \n",
              "28163   271633  21-06-2011                12              5   -3 -1224   \n",
              "28164   271633  18-06-2011                12              5    3  1224   \n",
              "28165   271633  18-06-2011                12              5    3  1224   \n",
              "28166   271633  18-06-2011                12              5    3  1224   \n",
              "28167   271633  18-06-2011                12              5    3  1224   \n",
              "\n",
              "          Tax  total_amt Store_type _merge prod_cat  prod_sub_cat_code  \\\n",
              "28158  385.56   -4057.56     e-Shop   both    Books                  7   \n",
              "28159  385.56   -4057.56     e-Shop   both    Books                 12   \n",
              "28160  385.56   -4057.56     e-Shop   both    Books                 10   \n",
              "28161  385.56   -4057.56     e-Shop   both    Books                 11   \n",
              "28162  385.56   -4057.56     e-Shop   both    Books                  3   \n",
              "28163  385.56   -4057.56     e-Shop   both    Books                  6   \n",
              "28164  385.56    4057.56     e-Shop   both    Books                  7   \n",
              "28165  385.56    4057.56     e-Shop   both    Books                 12   \n",
              "28166  385.56    4057.56     e-Shop   both    Books                 10   \n",
              "28167  385.56    4057.56     e-Shop   both    Books                  1   \n",
              "\n",
              "       prod_subcat  \n",
              "28158      Fiction  \n",
              "28159     Academic  \n",
              "28160  Non-Fiction  \n",
              "28161     Children  \n",
              "28162       Comics  \n",
              "28163          DIY  \n",
              "28164      Fiction  \n",
              "28165     Academic  \n",
              "28166  Non-Fiction  \n",
              "28167          NaN  "
            ],
            "text/html": [
              "\n",
              "  <div id=\"df-b28330f0-ddb7-4db4-a416-081f0fe7f941\">\n",
              "    <div class=\"colab-df-container\">\n",
              "      <div>\n",
              "<style scoped>\n",
              "    .dataframe tbody tr th:only-of-type {\n",
              "        vertical-align: middle;\n",
              "    }\n",
              "\n",
              "    .dataframe tbody tr th {\n",
              "        vertical-align: top;\n",
              "    }\n",
              "\n",
              "    .dataframe thead th {\n",
              "        text-align: right;\n",
              "    }\n",
              "</style>\n",
              "<table border=\"1\" class=\"dataframe\">\n",
              "  <thead>\n",
              "    <tr style=\"text-align: right;\">\n",
              "      <th></th>\n",
              "      <th>Unnamed: 0</th>\n",
              "      <th>customer_Id</th>\n",
              "      <th>DOB</th>\n",
              "      <th>Gender</th>\n",
              "      <th>city_code</th>\n",
              "      <th>transaction_id</th>\n",
              "      <th>cust_id</th>\n",
              "      <th>tran_date</th>\n",
              "      <th>prod_subcat_code</th>\n",
              "      <th>prod_cat_code</th>\n",
              "      <th>Qty</th>\n",
              "      <th>Rate</th>\n",
              "      <th>Tax</th>\n",
              "      <th>total_amt</th>\n",
              "      <th>Store_type</th>\n",
              "      <th>_merge</th>\n",
              "      <th>prod_cat</th>\n",
              "      <th>prod_sub_cat_code</th>\n",
              "      <th>prod_subcat</th>\n",
              "    </tr>\n",
              "  </thead>\n",
              "  <tbody>\n",
              "    <tr>\n",
              "      <th>28158</th>\n",
              "      <td>28158</td>\n",
              "      <td>271633</td>\n",
              "      <td>20-10-87</td>\n",
              "      <td>M</td>\n",
              "      <td>6.0</td>\n",
              "      <td>3041357146</td>\n",
              "      <td>271633</td>\n",
              "      <td>21-06-2011</td>\n",
              "      <td>12</td>\n",
              "      <td>5</td>\n",
              "      <td>-3</td>\n",
              "      <td>-1224</td>\n",
              "      <td>385.56</td>\n",
              "      <td>-4057.56</td>\n",
              "      <td>e-Shop</td>\n",
              "      <td>both</td>\n",
              "      <td>Books</td>\n",
              "      <td>7</td>\n",
              "      <td>Fiction</td>\n",
              "    </tr>\n",
              "    <tr>\n",
              "      <th>28159</th>\n",
              "      <td>28159</td>\n",
              "      <td>271633</td>\n",
              "      <td>20-10-87</td>\n",
              "      <td>M</td>\n",
              "      <td>6.0</td>\n",
              "      <td>3041357146</td>\n",
              "      <td>271633</td>\n",
              "      <td>21-06-2011</td>\n",
              "      <td>12</td>\n",
              "      <td>5</td>\n",
              "      <td>-3</td>\n",
              "      <td>-1224</td>\n",
              "      <td>385.56</td>\n",
              "      <td>-4057.56</td>\n",
              "      <td>e-Shop</td>\n",
              "      <td>both</td>\n",
              "      <td>Books</td>\n",
              "      <td>12</td>\n",
              "      <td>Academic</td>\n",
              "    </tr>\n",
              "    <tr>\n",
              "      <th>28160</th>\n",
              "      <td>28160</td>\n",
              "      <td>271633</td>\n",
              "      <td>20-10-87</td>\n",
              "      <td>M</td>\n",
              "      <td>6.0</td>\n",
              "      <td>3041357146</td>\n",
              "      <td>271633</td>\n",
              "      <td>21-06-2011</td>\n",
              "      <td>12</td>\n",
              "      <td>5</td>\n",
              "      <td>-3</td>\n",
              "      <td>-1224</td>\n",
              "      <td>385.56</td>\n",
              "      <td>-4057.56</td>\n",
              "      <td>e-Shop</td>\n",
              "      <td>both</td>\n",
              "      <td>Books</td>\n",
              "      <td>10</td>\n",
              "      <td>Non-Fiction</td>\n",
              "    </tr>\n",
              "    <tr>\n",
              "      <th>28161</th>\n",
              "      <td>28161</td>\n",
              "      <td>271633</td>\n",
              "      <td>20-10-87</td>\n",
              "      <td>M</td>\n",
              "      <td>6.0</td>\n",
              "      <td>3041357146</td>\n",
              "      <td>271633</td>\n",
              "      <td>21-06-2011</td>\n",
              "      <td>12</td>\n",
              "      <td>5</td>\n",
              "      <td>-3</td>\n",
              "      <td>-1224</td>\n",
              "      <td>385.56</td>\n",
              "      <td>-4057.56</td>\n",
              "      <td>e-Shop</td>\n",
              "      <td>both</td>\n",
              "      <td>Books</td>\n",
              "      <td>11</td>\n",
              "      <td>Children</td>\n",
              "    </tr>\n",
              "    <tr>\n",
              "      <th>28162</th>\n",
              "      <td>28162</td>\n",
              "      <td>271633</td>\n",
              "      <td>20-10-87</td>\n",
              "      <td>M</td>\n",
              "      <td>6.0</td>\n",
              "      <td>3041357146</td>\n",
              "      <td>271633</td>\n",
              "      <td>21-06-2011</td>\n",
              "      <td>12</td>\n",
              "      <td>5</td>\n",
              "      <td>-3</td>\n",
              "      <td>-1224</td>\n",
              "      <td>385.56</td>\n",
              "      <td>-4057.56</td>\n",
              "      <td>e-Shop</td>\n",
              "      <td>both</td>\n",
              "      <td>Books</td>\n",
              "      <td>3</td>\n",
              "      <td>Comics</td>\n",
              "    </tr>\n",
              "    <tr>\n",
              "      <th>28163</th>\n",
              "      <td>28163</td>\n",
              "      <td>271633</td>\n",
              "      <td>20-10-87</td>\n",
              "      <td>M</td>\n",
              "      <td>6.0</td>\n",
              "      <td>3041357146</td>\n",
              "      <td>271633</td>\n",
              "      <td>21-06-2011</td>\n",
              "      <td>12</td>\n",
              "      <td>5</td>\n",
              "      <td>-3</td>\n",
              "      <td>-1224</td>\n",
              "      <td>385.56</td>\n",
              "      <td>-4057.56</td>\n",
              "      <td>e-Shop</td>\n",
              "      <td>both</td>\n",
              "      <td>Books</td>\n",
              "      <td>6</td>\n",
              "      <td>DIY</td>\n",
              "    </tr>\n",
              "    <tr>\n",
              "      <th>28164</th>\n",
              "      <td>28164</td>\n",
              "      <td>271633</td>\n",
              "      <td>20-10-87</td>\n",
              "      <td>M</td>\n",
              "      <td>6.0</td>\n",
              "      <td>3041357146</td>\n",
              "      <td>271633</td>\n",
              "      <td>18-06-2011</td>\n",
              "      <td>12</td>\n",
              "      <td>5</td>\n",
              "      <td>3</td>\n",
              "      <td>1224</td>\n",
              "      <td>385.56</td>\n",
              "      <td>4057.56</td>\n",
              "      <td>e-Shop</td>\n",
              "      <td>both</td>\n",
              "      <td>Books</td>\n",
              "      <td>7</td>\n",
              "      <td>Fiction</td>\n",
              "    </tr>\n",
              "    <tr>\n",
              "      <th>28165</th>\n",
              "      <td>28165</td>\n",
              "      <td>271633</td>\n",
              "      <td>20-10-87</td>\n",
              "      <td>M</td>\n",
              "      <td>6.0</td>\n",
              "      <td>3041357146</td>\n",
              "      <td>271633</td>\n",
              "      <td>18-06-2011</td>\n",
              "      <td>12</td>\n",
              "      <td>5</td>\n",
              "      <td>3</td>\n",
              "      <td>1224</td>\n",
              "      <td>385.56</td>\n",
              "      <td>4057.56</td>\n",
              "      <td>e-Shop</td>\n",
              "      <td>both</td>\n",
              "      <td>Books</td>\n",
              "      <td>12</td>\n",
              "      <td>Academic</td>\n",
              "    </tr>\n",
              "    <tr>\n",
              "      <th>28166</th>\n",
              "      <td>28166</td>\n",
              "      <td>271633</td>\n",
              "      <td>20-10-87</td>\n",
              "      <td>M</td>\n",
              "      <td>6.0</td>\n",
              "      <td>3041357146</td>\n",
              "      <td>271633</td>\n",
              "      <td>18-06-2011</td>\n",
              "      <td>12</td>\n",
              "      <td>5</td>\n",
              "      <td>3</td>\n",
              "      <td>1224</td>\n",
              "      <td>385.56</td>\n",
              "      <td>4057.56</td>\n",
              "      <td>e-Shop</td>\n",
              "      <td>both</td>\n",
              "      <td>Books</td>\n",
              "      <td>10</td>\n",
              "      <td>Non-Fiction</td>\n",
              "    </tr>\n",
              "    <tr>\n",
              "      <th>28167</th>\n",
              "      <td>28167</td>\n",
              "      <td>271633</td>\n",
              "      <td>20-10-87</td>\n",
              "      <td>M</td>\n",
              "      <td>6.0</td>\n",
              "      <td>3041357146</td>\n",
              "      <td>271633</td>\n",
              "      <td>18-06-2011</td>\n",
              "      <td>12</td>\n",
              "      <td>5</td>\n",
              "      <td>3</td>\n",
              "      <td>1224</td>\n",
              "      <td>385.56</td>\n",
              "      <td>4057.56</td>\n",
              "      <td>e-Shop</td>\n",
              "      <td>both</td>\n",
              "      <td>Books</td>\n",
              "      <td>1</td>\n",
              "      <td>NaN</td>\n",
              "    </tr>\n",
              "  </tbody>\n",
              "</table>\n",
              "</div>\n",
              "      <button class=\"colab-df-convert\" onclick=\"convertToInteractive('df-b28330f0-ddb7-4db4-a416-081f0fe7f941')\"\n",
              "              title=\"Convert this dataframe to an interactive table.\"\n",
              "              style=\"display:none;\">\n",
              "        \n",
              "  <svg xmlns=\"http://www.w3.org/2000/svg\" height=\"24px\"viewBox=\"0 0 24 24\"\n",
              "       width=\"24px\">\n",
              "    <path d=\"M0 0h24v24H0V0z\" fill=\"none\"/>\n",
              "    <path d=\"M18.56 5.44l.94 2.06.94-2.06 2.06-.94-2.06-.94-.94-2.06-.94 2.06-2.06.94zm-11 1L8.5 8.5l.94-2.06 2.06-.94-2.06-.94L8.5 2.5l-.94 2.06-2.06.94zm10 10l.94 2.06.94-2.06 2.06-.94-2.06-.94-.94-2.06-.94 2.06-2.06.94z\"/><path d=\"M17.41 7.96l-1.37-1.37c-.4-.4-.92-.59-1.43-.59-.52 0-1.04.2-1.43.59L10.3 9.45l-7.72 7.72c-.78.78-.78 2.05 0 2.83L4 21.41c.39.39.9.59 1.41.59.51 0 1.02-.2 1.41-.59l7.78-7.78 2.81-2.81c.8-.78.8-2.07 0-2.86zM5.41 20L4 18.59l7.72-7.72 1.47 1.35L5.41 20z\"/>\n",
              "  </svg>\n",
              "      </button>\n",
              "      \n",
              "  <style>\n",
              "    .colab-df-container {\n",
              "      display:flex;\n",
              "      flex-wrap:wrap;\n",
              "      gap: 12px;\n",
              "    }\n",
              "\n",
              "    .colab-df-convert {\n",
              "      background-color: #E8F0FE;\n",
              "      border: none;\n",
              "      border-radius: 50%;\n",
              "      cursor: pointer;\n",
              "      display: none;\n",
              "      fill: #1967D2;\n",
              "      height: 32px;\n",
              "      padding: 0 0 0 0;\n",
              "      width: 32px;\n",
              "    }\n",
              "\n",
              "    .colab-df-convert:hover {\n",
              "      background-color: #E2EBFA;\n",
              "      box-shadow: 0px 1px 2px rgba(60, 64, 67, 0.3), 0px 1px 3px 1px rgba(60, 64, 67, 0.15);\n",
              "      fill: #174EA6;\n",
              "    }\n",
              "\n",
              "    [theme=dark] .colab-df-convert {\n",
              "      background-color: #3B4455;\n",
              "      fill: #D2E3FC;\n",
              "    }\n",
              "\n",
              "    [theme=dark] .colab-df-convert:hover {\n",
              "      background-color: #434B5C;\n",
              "      box-shadow: 0px 1px 3px 1px rgba(0, 0, 0, 0.15);\n",
              "      filter: drop-shadow(0px 1px 2px rgba(0, 0, 0, 0.3));\n",
              "      fill: #FFFFFF;\n",
              "    }\n",
              "  </style>\n",
              "\n",
              "      <script>\n",
              "        const buttonEl =\n",
              "          document.querySelector('#df-b28330f0-ddb7-4db4-a416-081f0fe7f941 button.colab-df-convert');\n",
              "        buttonEl.style.display =\n",
              "          google.colab.kernel.accessAllowed ? 'block' : 'none';\n",
              "\n",
              "        async function convertToInteractive(key) {\n",
              "          const element = document.querySelector('#df-b28330f0-ddb7-4db4-a416-081f0fe7f941');\n",
              "          const dataTable =\n",
              "            await google.colab.kernel.invokeFunction('convertToInteractive',\n",
              "                                                     [key], {});\n",
              "          if (!dataTable) return;\n",
              "\n",
              "          const docLinkHtml = 'Like what you see? Visit the ' +\n",
              "            '<a target=\"_blank\" href=https://colab.research.google.com/notebooks/data_table.ipynb>data table notebook</a>'\n",
              "            + ' to learn more about interactive tables.';\n",
              "          element.innerHTML = '';\n",
              "          dataTable['output_type'] = 'display_data';\n",
              "          await google.colab.output.renderOutput(dataTable, element);\n",
              "          const docLink = document.createElement('div');\n",
              "          docLink.innerHTML = docLinkHtml;\n",
              "          element.appendChild(docLink);\n",
              "        }\n",
              "      </script>\n",
              "    </div>\n",
              "  </div>\n",
              "  "
            ]
          },
          "metadata": {},
          "execution_count": 8
        }
      ]
    },
    {
      "cell_type": "code",
      "source": [
        "df1.dtypes # here we get the data type of each column and their names"
      ],
      "metadata": {
        "id": "SITUE8rxWGXW",
        "colab": {
          "base_uri": "https://localhost:8080/"
        },
        "outputId": "e5e3848a-0b1c-4b69-f486-a3a2496ad663"
      },
      "execution_count": null,
      "outputs": [
        {
          "output_type": "execute_result",
          "data": {
            "text/plain": [
              "Unnamed: 0             int64\n",
              "customer_Id            int64\n",
              "DOB                   object\n",
              "Gender                object\n",
              "city_code            float64\n",
              "transaction_id         int64\n",
              "cust_id                int64\n",
              "tran_date             object\n",
              "prod_subcat_code       int64\n",
              "prod_cat_code          int64\n",
              "Qty                    int64\n",
              "Rate                   int64\n",
              "Tax                  float64\n",
              "total_amt            float64\n",
              "Store_type            object\n",
              "_merge                object\n",
              "prod_cat              object\n",
              "prod_sub_cat_code      int64\n",
              "prod_subcat           object\n",
              "dtype: object"
            ]
          },
          "metadata": {},
          "execution_count": 9
        }
      ]
    },
    {
      "cell_type": "markdown",
      "source": [
        "**Q.2)** Take any three features/columns with categorical data and show\n",
        " frequency visualization for them."
      ],
      "metadata": {
        "id": "ZhYqz89NgYM9"
      }
    },
    {
      "cell_type": "code",
      "source": [
        "df2=df.dtypes[df.dtypes == 'object'].index # Extracting the categorical data containing columns\n",
        "df2"
      ],
      "metadata": {
        "colab": {
          "base_uri": "https://localhost:8080/"
        },
        "id": "rgkgF7RbXjrf",
        "outputId": "6394cf09-8d45-4926-e35a-18179e6035c7"
      },
      "execution_count": null,
      "outputs": [
        {
          "output_type": "execute_result",
          "data": {
            "text/plain": [
              "Index(['DOB', 'Gender', 'tran_date', 'Store_type', '_merge', 'prod_cat',\n",
              "       'prod_subcat'],\n",
              "      dtype='object')"
            ]
          },
          "metadata": {},
          "execution_count": 10
        }
      ]
    },
    {
      "cell_type": "code",
      "source": [
        "\n",
        "import matplotlib.pyplot as plt\n",
        "\n",
        "# create subplots for each feature\n",
        "fig, axs = plt.subplots(nrows=1, ncols=3, figsize=(10, 4))\n",
        "\n",
        "# plot the frequency counts for each feature\n",
        "df['Gender'].value_counts().plot(kind='bar', ax=axs[0], rot=0)\n",
        "df['Store_type'].value_counts().plot(kind='bar', ax=axs[1], rot=45)\n",
        "df['prod_cat'].value_counts().plot(kind='bar', ax=axs[2], rot=45)\n",
        "\n",
        "# set titles and labels for each subplot\n",
        "axs[0].set_title('Gender')\n",
        "axs[0].set_xlabel('Gender')\n",
        "axs[0].set_ylabel('Frequency')\n",
        "axs[1].set_title('Store_type')\n",
        "axs[1].set_xlabel('Store_type')\n",
        "axs[1].set_ylabel('Frequency')\n",
        "axs[2].set_title('prod_cat')\n",
        "axs[2].set_xlabel('prod_cat')\n",
        "axs[2].set_ylabel('Frequency')\n",
        "\n",
        "# adjust spacing between subplots and show the plot\n",
        "fig.tight_layout()\n",
        "plt.show()\n"
      ],
      "metadata": {
        "colab": {
          "base_uri": "https://localhost:8080/",
          "height": 297
        },
        "id": "YmnWH22HYiz9",
        "outputId": "091c76bb-b11b-4752-d6e4-ee58940f43c8"
      },
      "execution_count": null,
      "outputs": [
        {
          "output_type": "display_data",
          "data": {
            "text/plain": [
              "<Figure size 720x288 with 3 Axes>"
            ],
            "image/png": "[encoded data removed]"
          },
          "metadata": {
            "needs_background": "light"
          }
        }
      ]
    },
    {
      "cell_type": "markdown",
      "source": [
        "**Q.3)**Write a code to show - which store type sells the maximum product by value and by quantity.\n"
      ],
      "metadata": {
        "id": "X9hLV_JV6M2a"
      }
    },
    {
      "cell_type": "code",
      "source": [
        "\n",
        "# group the data by store type and calculate the total sales by value and by quantity\n",
        "sales_by_value = df.groupby('Store_type')['total_amt'].sum()\n",
        "sales_by_quantity =df.groupby('Store_type')['Qty'].sum()\n",
        "\n",
        "# find the store type with the maximum sales by value and by quantity\n",
        "max_sales_by_value = sales_by_value.idxmax()\n",
        "max_sales_by_quantity = sales_by_quantity.idxmax()\n",
        "\n",
        "print(\"The store type with the maximum sales by value is:  \", max_sales_by_value,'\\n',sales_by_value,'\\n')\n",
        "print(\"The store type with the maximum sales by quantity is:  \", max_sales_by_quantity,'\\n',sales_by_quantity)"
      ],
      "metadata": {
        "colab": {
          "base_uri": "https://localhost:8080/"
        },
        "id": "Srzg3f5Ui-Gq",
        "outputId": "fed3cddf-0554-45ec-b9ae-bb5ef5776b9e"
      },
      "execution_count": null,
      "outputs": [
        {
          "output_type": "stream",
          "name": "stdout",
          "text": [
            "The store type with the maximum sales by value is:   e-Shop \n",
            " Store_type\n",
            "Flagship store    11295086.79\n",
            "MBR               11500437.78\n",
            "TeleShop          11985422.28\n",
            "e-Shop            25741512.03\n",
            "Name: total_amt, dtype: float64 \n",
            "\n",
            "The store type with the maximum sales by quantity is:   e-Shop \n",
            " Store_type\n",
            "Flagship store    13038\n",
            "MBR               13578\n",
            "TeleShop          13506\n",
            "e-Shop            28848\n",
            "Name: Qty, dtype: int64\n"
          ]
        }
      ]
    },
    {
      "cell_type": "markdown",
      "source": [
        "**Q.4)** Write a code to show - what was the total amount earned\n",
        " from male customers under the electronics category."
      ],
      "metadata": {
        "id": "dOKpFej66BQn"
      }
    },
    {
      "cell_type": "code",
      "source": [
        "df.groupby('prod_cat')['total_amt'].sum()"
      ],
      "metadata": {
        "colab": {
          "base_uri": "https://localhost:8080/"
        },
        "id": "yoTNo8vx6FV6",
        "outputId": "272a0a7e-87c6-4f2f-d8ce-fc9bd321001c"
      },
      "execution_count": null,
      "outputs": [
        {
          "output_type": "execute_result",
          "data": {
            "text/plain": [
              "prod_cat\n",
              "Books    60522458.88\n",
              "Name: total_amt, dtype: float64"
            ]
          },
          "metadata": {},
          "execution_count": 13
        }
      ]
    },
    {
      "cell_type": "code",
      "source": [
        "total_amount_earned = df[(df['Gender'] == 'M') & (df['prod_cat'] == 'Electronics')]['total_amt'].sum()\n",
        "print(\"Total amount earned from male customers under the electronics category:\", total_amount_earned)\n"
      ],
      "metadata": {
        "colab": {
          "base_uri": "https://localhost:8080/"
        },
        "id": "5pBlwP2O9ZQU",
        "outputId": "9a07d225-5320-4b63-99fd-bab0edd33d17"
      },
      "execution_count": null,
      "outputs": [
        {
          "output_type": "stream",
          "name": "stdout",
          "text": [
            "Total amount earned from male customers under the electronics category: 0.0\n"
          ]
        }
      ]
    },
    {
      "cell_type": "markdown",
      "source": [
        "**Q.5)** Create a new \"age\" column with the  help of Date of Birth."
      ],
      "metadata": {
        "id": "bnljTMrs092y"
      }
    },
    {
      "cell_type": "code",
      "source": [
        "df['DOB']=pd.to_datetime(df['DOB']) # converting DOB file int the date format"
      ],
      "metadata": {
        "id": "r0Gbtf7nym9o"
      },
      "execution_count": null,
      "outputs": []
    },
    {
      "cell_type": "code",
      "source": [
        "now = datetime.now()\n",
        "df['Age'] = (now - df['DOB']).astype('<m8[Y]')"
      ],
      "metadata": {
        "id": "-w82Vx0PzF0w"
      },
      "execution_count": null,
      "outputs": []
    },
    {
      "cell_type": "code",
      "source": [
        "df.head(2)"
      ],
      "metadata": {
        "colab": {
          "base_uri": "https://localhost:8080/",
          "height": 228
        },
        "id": "wWPBGV0PzGse",
        "outputId": "a13b72f4-275c-4427-88a3-c5c2e1ad74f6"
      },
      "execution_count": null,
      "outputs": [
        {
          "output_type": "execute_result",
          "data": {
            "text/plain": [
              "   Unnamed: 0  customer_Id        DOB Gender  city_code  transaction_id  \\\n",
              "0           0       268408 1970-02-01      M        4.0     87243835584   \n",
              "1           1       268408 1970-02-01      M        4.0     87243835584   \n",
              "\n",
              "   cust_id   tran_date  prod_subcat_code  prod_cat_code  Qty  Rate     Tax  \\\n",
              "0   268408  13-01-2014                 7              5    5   187  98.175   \n",
              "1   268408  13-01-2014                 7              5    5   187  98.175   \n",
              "\n",
              "   total_amt Store_type _merge prod_cat  prod_sub_cat_code prod_subcat   Age  \n",
              "0   1033.175   TeleShop   both    Books                  7     Fiction  53.0  \n",
              "1   1033.175   TeleShop   both    Books                 12    Academic  53.0  "
            ],
            "text/html": [
              "\n",
              "  <div id=\"df-9efb2072-9130-4282-a81c-60cac75d502e\">\n",
              "    <div class=\"colab-df-container\">\n",
              "      <div>\n",
              "<style scoped>\n",
              "    .dataframe tbody tr th:only-of-type {\n",
              "        vertical-align: middle;\n",
              "    }\n",
              "\n",
              "    .dataframe tbody tr th {\n",
              "        vertical-align: top;\n",
              "    }\n",
              "\n",
              "    .dataframe thead th {\n",
              "        text-align: right;\n",
              "    }\n",
              "</style>\n",
              "<table border=\"1\" class=\"dataframe\">\n",
              "  <thead>\n",
              "    <tr style=\"text-align: right;\">\n",
              "      <th></th>\n",
              "      <th>Unnamed: 0</th>\n",
              "      <th>customer_Id</th>\n",
              "      <th>DOB</th>\n",
              "      <th>Gender</th>\n",
              "      <th>city_code</th>\n",
              "      <th>transaction_id</th>\n",
              "      <th>cust_id</th>\n",
              "      <th>tran_date</th>\n",
              "      <th>prod_subcat_code</th>\n",
              "      <th>prod_cat_code</th>\n",
              "      <th>Qty</th>\n",
              "      <th>Rate</th>\n",
              "      <th>Tax</th>\n",
              "      <th>total_amt</th>\n",
              "      <th>Store_type</th>\n",
              "      <th>_merge</th>\n",
              "      <th>prod_cat</th>\n",
              "      <th>prod_sub_cat_code</th>\n",
              "      <th>prod_subcat</th>\n",
              "      <th>Age</th>\n",
              "    </tr>\n",
              "  </thead>\n",
              "  <tbody>\n",
              "    <tr>\n",
              "      <th>0</th>\n",
              "      <td>0</td>\n",
              "      <td>268408</td>\n",
              "      <td>1970-02-01</td>\n",
              "      <td>M</td>\n",
              "      <td>4.0</td>\n",
              "      <td>87243835584</td>\n",
              "      <td>268408</td>\n",
              "      <td>13-01-2014</td>\n",
              "      <td>7</td>\n",
              "      <td>5</td>\n",
              "      <td>5</td>\n",
              "      <td>187</td>\n",
              "      <td>98.175</td>\n",
              "      <td>1033.175</td>\n",
              "      <td>TeleShop</td>\n",
              "      <td>both</td>\n",
              "      <td>Books</td>\n",
              "      <td>7</td>\n",
              "      <td>Fiction</td>\n",
              "      <td>53.0</td>\n",
              "    </tr>\n",
              "    <tr>\n",
              "      <th>1</th>\n",
              "      <td>1</td>\n",
              "      <td>268408</td>\n",
              "      <td>1970-02-01</td>\n",
              "      <td>M</td>\n",
              "      <td>4.0</td>\n",
              "      <td>87243835584</td>\n",
              "      <td>268408</td>\n",
              "      <td>13-01-2014</td>\n",
              "      <td>7</td>\n",
              "      <td>5</td>\n",
              "      <td>5</td>\n",
              "      <td>187</td>\n",
              "      <td>98.175</td>\n",
              "      <td>1033.175</td>\n",
              "      <td>TeleShop</td>\n",
              "      <td>both</td>\n",
              "      <td>Books</td>\n",
              "      <td>12</td>\n",
              "      <td>Academic</td>\n",
              "      <td>53.0</td>\n",
              "    </tr>\n",
              "  </tbody>\n",
              "</table>\n",
              "</div>\n",
              "      <button class=\"colab-df-convert\" onclick=\"convertToInteractive('df-9efb2072-9130-4282-a81c-60cac75d502e')\"\n",
              "              title=\"Convert this dataframe to an interactive table.\"\n",
              "              style=\"display:none;\">\n",
              "        \n",
              "  <svg xmlns=\"http://www.w3.org/2000/svg\" height=\"24px\"viewBox=\"0 0 24 24\"\n",
              "       width=\"24px\">\n",
              "    <path d=\"M0 0h24v24H0V0z\" fill=\"none\"/>\n",
              "    <path d=\"M18.56 5.44l.94 2.06.94-2.06 2.06-.94-2.06-.94-.94-2.06-.94 2.06-2.06.94zm-11 1L8.5 8.5l.94-2.06 2.06-.94-2.06-.94L8.5 2.5l-.94 2.06-2.06.94zm10 10l.94 2.06.94-2.06 2.06-.94-2.06-.94-.94-2.06-.94 2.06-2.06.94z\"/><path d=\"M17.41 7.96l-1.37-1.37c-.4-.4-.92-.59-1.43-.59-.52 0-1.04.2-1.43.59L10.3 9.45l-7.72 7.72c-.78.78-.78 2.05 0 2.83L4 21.41c.39.39.9.59 1.41.59.51 0 1.02-.2 1.41-.59l7.78-7.78 2.81-2.81c.8-.78.8-2.07 0-2.86zM5.41 20L4 18.59l7.72-7.72 1.47 1.35L5.41 20z\"/>\n",
              "  </svg>\n",
              "      </button>\n",
              "      \n",
              "  <style>\n",
              "    .colab-df-container {\n",
              "      display:flex;\n",
              "      flex-wrap:wrap;\n",
              "      gap: 12px;\n",
              "    }\n",
              "\n",
              "    .colab-df-convert {\n",
              "      background-color: #E8F0FE;\n",
              "      border: none;\n",
              "      border-radius: 50%;\n",
              "      cursor: pointer;\n",
              "      display: none;\n",
              "      fill: #1967D2;\n",
              "      height: 32px;\n",
              "      padding: 0 0 0 0;\n",
              "      width: 32px;\n",
              "    }\n",
              "\n",
              "    .colab-df-convert:hover {\n",
              "      background-color: #E2EBFA;\n",
              "      box-shadow: 0px 1px 2px rgba(60, 64, 67, 0.3), 0px 1px 3px 1px rgba(60, 64, 67, 0.15);\n",
              "      fill: #174EA6;\n",
              "    }\n",
              "\n",
              "    [theme=dark] .colab-df-convert {\n",
              "      background-color: #3B4455;\n",
              "      fill: #D2E3FC;\n",
              "    }\n",
              "\n",
              "    [theme=dark] .colab-df-convert:hover {\n",
              "      background-color: #434B5C;\n",
              "      box-shadow: 0px 1px 3px 1px rgba(0, 0, 0, 0.15);\n",
              "      filter: drop-shadow(0px 1px 2px rgba(0, 0, 0, 0.3));\n",
              "      fill: #FFFFFF;\n",
              "    }\n",
              "  </style>\n",
              "\n",
              "      <script>\n",
              "        const buttonEl =\n",
              "          document.querySelector('#df-9efb2072-9130-4282-a81c-60cac75d502e button.colab-df-convert');\n",
              "        buttonEl.style.display =\n",
              "          google.colab.kernel.accessAllowed ? 'block' : 'none';\n",
              "\n",
              "        async function convertToInteractive(key) {\n",
              "          const element = document.querySelector('#df-9efb2072-9130-4282-a81c-60cac75d502e');\n",
              "          const dataTable =\n",
              "            await google.colab.kernel.invokeFunction('convertToInteractive',\n",
              "                                                     [key], {});\n",
              "          if (!dataTable) return;\n",
              "\n",
              "          const docLinkHtml = 'Like what you see? Visit the ' +\n",
              "            '<a target=\"_blank\" href=https://colab.research.google.com/notebooks/data_table.ipynb>data table notebook</a>'\n",
              "            + ' to learn more about interactive tables.';\n",
              "          element.innerHTML = '';\n",
              "          dataTable['output_type'] = 'display_data';\n",
              "          await google.colab.output.renderOutput(dataTable, element);\n",
              "          const docLink = document.createElement('div');\n",
              "          docLink.innerHTML = docLinkHtml;\n",
              "          element.appendChild(docLink);\n",
              "        }\n",
              "      </script>\n",
              "    </div>\n",
              "  </div>\n",
              "  "
            ]
          },
          "metadata": {},
          "execution_count": 17
        }
      ]
    },
    {
      "cell_type": "code",
      "source": [
        "df['Gender'].value_counts()"
      ],
      "metadata": {
        "id": "I-xgs2n32xPB",
        "colab": {
          "base_uri": "https://localhost:8080/"
        },
        "outputId": "7f4262e8-9b50-4bc0-fa2e-b0109771e56a"
      },
      "execution_count": null,
      "outputs": [
        {
          "output_type": "execute_result",
          "data": {
            "text/plain": [
              "M    14380\n",
              "F    13764\n",
              "Name: Gender, dtype: int64"
            ]
          },
          "metadata": {},
          "execution_count": 18
        }
      ]
    },
    {
      "cell_type": "code",
      "source": [
        "df['Store_type'].value_counts()"
      ],
      "metadata": {
        "colab": {
          "base_uri": "https://localhost:8080/"
        },
        "id": "rg_pOjaRgwFc",
        "outputId": "36dd8397-514b-4651-b573-fd6612732816"
      },
      "execution_count": null,
      "outputs": [
        {
          "output_type": "execute_result",
          "data": {
            "text/plain": [
              "e-Shop            11440\n",
              "MBR                5664\n",
              "Flagship store     5598\n",
              "TeleShop           5466\n",
              "Name: Store_type, dtype: int64"
            ]
          },
          "metadata": {},
          "execution_count": 19
        }
      ]
    },
    {
      "cell_type": "code",
      "source": [
        "df['prod_cat'].value_counts()"
      ],
      "metadata": {
        "colab": {
          "base_uri": "https://localhost:8080/"
        },
        "id": "cf1eXFAJhCLj",
        "outputId": "7fe08197-455f-4a1c-e502-e2c844fb4826"
      },
      "execution_count": null,
      "outputs": [
        {
          "output_type": "execute_result",
          "data": {
            "text/plain": [
              "Books    28168\n",
              "Name: prod_cat, dtype: int64"
            ]
          },
          "metadata": {},
          "execution_count": 20
        }
      ]
    },
    {
      "cell_type": "code",
      "source": [
        "import seaborn as sns"
      ],
      "metadata": {
        "id": "kl1n3j-DhW_v"
      },
      "execution_count": null,
      "outputs": []
    },
    {
      "cell_type": "code",
      "source": [
        "sns.displot(df['Store_type'])"
      ],
      "metadata": {
        "colab": {
          "base_uri": "https://localhost:8080/",
          "height": 387
        },
        "id": "mtxWvwG9hiEo",
        "outputId": "930d1f07-1abb-475f-9a1b-c37b752c8868"
      },
      "execution_count": null,
      "outputs": [
        {
          "output_type": "execute_result",
          "data": {
            "text/plain": [
              "<seaborn.axisgrid.FacetGrid at 0x7fa394dc78e0>"
            ]
          },
          "metadata": {},
          "execution_count": 23
        },
        {
          "output_type": "display_data",
          "data": {
            "text/plain": [
              "<Figure size 360x360 with 1 Axes>"
            ],
            "image/png": "[encoded data removed]"
          },
          "metadata": {
            "needs_background": "light"
          }
        }
      ]
    },
    {
      "cell_type": "code",
      "source": [],
      "metadata": {
        "id": "tgW90eTqiPv5"
      },
      "execution_count": null,
      "outputs": []
    }
  ]
}