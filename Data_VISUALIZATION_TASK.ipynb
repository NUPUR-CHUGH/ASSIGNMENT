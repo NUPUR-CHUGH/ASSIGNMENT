{
  "nbformat": 4,
  "nbformat_minor": 0,
  "metadata": {
    "colab": {
      "provenance": [],
      "authorship_tag": "ABX9TyOMBVGS+cY/2wyAtCi5YP+6",
      "include_colab_link": true
    },
    "kernelspec": {
      "name": "python3",
      "display_name": "Python 3"
    },
    "language_info": {
      "name": "python"
    }
  },
  "cells": [
    {
      "cell_type": "markdown",
      "metadata": {
        "id": "view-in-github",
        "colab_type": "text"
      },
      "source": [
        "<a href=\"https://colab.research.google.com/github/NUPUR-CHUGH/ASSIGNMENT/blob/main/Data_VISUALIZATION_TASK.ipynb\" target=\"_parent\"><img src=\"https://colab.research.google.com/assets/colab-badge.svg\" alt=\"Open In Colab\"/></a>"
      ]
    },
    {
      "cell_type": "markdown",
      "source": [
        "              **Question**\n",
        "\n",
        "1. Display the first 7 rows and draw a Histogram for continuous variables (Total amount)\n",
        "2. Show which city code has the maximum customers.\n",
        "3. Write a code to - Count number of negative total amount (use loc function)\n",
        "4. Write a code to show - what was the total amount earned from female customers under the home and kitchen category.\n",
        "5. What was the total amount earned from the \"Electronics\" and \"Clothing\" categories"
      ],
      "metadata": {
        "id": "dR1VydJzKlAv"
      }
    },
    {
      "cell_type": "code",
      "execution_count": null,
      "metadata": {
        "id": "iFLShOz-BMX6"
      },
      "outputs": [],
      "source": [
        "!pip install -U -q PyDrive\n",
        "from pydrive.auth import GoogleAuth\n",
        "from pydrive.drive import GoogleDrive\n",
        "from google.colab import auth\n",
        "from oauth2client.client import GoogleCredentials"
      ]
    },
    {
      "cell_type": "code",
      "source": [
        "auth.authenticate_user()\n",
        "gauth = GoogleAuth()\n",
        "gauth.credentials = GoogleCredentials.get_application_default()\n",
        "drive = GoogleDrive(gauth)"
      ],
      "metadata": {
        "id": "faDEWkflBdjo"
      },
      "execution_count": null,
      "outputs": []
    },
    {
      "cell_type": "code",
      "source": [
        "downloaded = drive.CreateFile({'id':'1JzJ9V-8arhQVKmVN_wTy8ndwmf5riYrc'}) \n",
        "downloaded.GetContentFile('data_eduonix.csv') "
      ],
      "metadata": {
        "id": "_TNe-I-PCxCE"
      },
      "execution_count": null,
      "outputs": []
    },
    {
      "cell_type": "code",
      "source": [
        "import pandas as pd\n",
        "df=pd.read_csv(\"data_eduonix.csv\")"
      ],
      "metadata": {
        "id": "R86uv-P5D8rz"
      },
      "execution_count": null,
      "outputs": []
    },
    {
      "cell_type": "code",
      "source": [
        "df.head()"
      ],
      "metadata": {
        "colab": {
          "base_uri": "https://localhost:8080/",
          "height": 461
        },
        "id": "rNcqmgcJEY8l",
        "outputId": "6c9e3d18-6b19-47ab-a277-9e143f90c7dd"
      },
      "execution_count": null,
      "outputs": [
        {
          "output_type": "execute_result",
          "data": {
            "text/plain": [
              "   Unnamed: 0  customer_Id         DOB Gender  city_code  transaction_id  \\\n",
              "0           0       268408  02-01-1970      M        4.0     87243835584   \n",
              "1           1       268408  02-01-1970      M        4.0     87243835584   \n",
              "2           2       268408  02-01-1970      M        4.0     87243835584   \n",
              "3           3       268408  02-01-1970      M        4.0     87243835584   \n",
              "4           4       268408  02-01-1970      M        4.0     87243835584   \n",
              "\n",
              "   cust_id   tran_date  prod_subcat_code  prod_cat_code  Qty  Rate     Tax  \\\n",
              "0   268408  13-01-2014                 7              5    5   187  98.175   \n",
              "1   268408  13-01-2014                 7              5    5   187  98.175   \n",
              "2   268408  13-01-2014                 7              5    5   187  98.175   \n",
              "3   268408  13-01-2014                 7              5    5   187  98.175   \n",
              "4   268408  13-01-2014                 7              5    5   187  98.175   \n",
              "\n",
              "   total_amt Store_type _merge prod_cat  prod_sub_cat_code  prod_subcat  \n",
              "0   1033.175   TeleShop   both    Books                  7      Fiction  \n",
              "1   1033.175   TeleShop   both    Books                 12     Academic  \n",
              "2   1033.175   TeleShop   both    Books                 10  Non-Fiction  \n",
              "3   1033.175   TeleShop   both    Books                 11     Children  \n",
              "4   1033.175   TeleShop   both    Books                  3       Comics  "
            ],
            "text/html": [
              "\n",
              "  <div id=\"df-fc8b3f85-b478-40c0-bf85-586eb260ab3e\">\n",
              "    <div class=\"colab-df-container\">\n",
              "      <div>\n",
              "<style scoped>\n",
              "    .dataframe tbody tr th:only-of-type {\n",
              "        vertical-align: middle;\n",
              "    }\n",
              "\n",
              "    .dataframe tbody tr th {\n",
              "        vertical-align: top;\n",
              "    }\n",
              "\n",
              "    .dataframe thead th {\n",
              "        text-align: right;\n",
              "    }\n",
              "</style>\n",
              "<table border=\"1\" class=\"dataframe\">\n",
              "  <thead>\n",
              "    <tr style=\"text-align: right;\">\n",
              "      <th></th>\n",
              "      <th>Unnamed: 0</th>\n",
              "      <th>customer_Id</th>\n",
              "      <th>DOB</th>\n",
              "      <th>Gender</th>\n",
              "      <th>city_code</th>\n",
              "      <th>transaction_id</th>\n",
              "      <th>cust_id</th>\n",
              "      <th>tran_date</th>\n",
              "      <th>prod_subcat_code</th>\n",
              "      <th>prod_cat_code</th>\n",
              "      <th>Qty</th>\n",
              "      <th>Rate</th>\n",
              "      <th>Tax</th>\n",
              "      <th>total_amt</th>\n",
              "      <th>Store_type</th>\n",
              "      <th>_merge</th>\n",
              "      <th>prod_cat</th>\n",
              "      <th>prod_sub_cat_code</th>\n",
              "      <th>prod_subcat</th>\n",
              "    </tr>\n",
              "  </thead>\n",
              "  <tbody>\n",
              "    <tr>\n",
              "      <th>0</th>\n",
              "      <td>0</td>\n",
              "      <td>268408</td>\n",
              "      <td>02-01-1970</td>\n",
              "      <td>M</td>\n",
              "      <td>4.0</td>\n",
              "      <td>87243835584</td>\n",
              "      <td>268408</td>\n",
              "      <td>13-01-2014</td>\n",
              "      <td>7</td>\n",
              "      <td>5</td>\n",
              "      <td>5</td>\n",
              "      <td>187</td>\n",
              "      <td>98.175</td>\n",
              "      <td>1033.175</td>\n",
              "      <td>TeleShop</td>\n",
              "      <td>both</td>\n",
              "      <td>Books</td>\n",
              "      <td>7</td>\n",
              "      <td>Fiction</td>\n",
              "    </tr>\n",
              "    <tr>\n",
              "      <th>1</th>\n",
              "      <td>1</td>\n",
              "      <td>268408</td>\n",
              "      <td>02-01-1970</td>\n",
              "      <td>M</td>\n",
              "      <td>4.0</td>\n",
              "      <td>87243835584</td>\n",
              "      <td>268408</td>\n",
              "      <td>13-01-2014</td>\n",
              "      <td>7</td>\n",
              "      <td>5</td>\n",
              "      <td>5</td>\n",
              "      <td>187</td>\n",
              "      <td>98.175</td>\n",
              "      <td>1033.175</td>\n",
              "      <td>TeleShop</td>\n",
              "      <td>both</td>\n",
              "      <td>Books</td>\n",
              "      <td>12</td>\n",
              "      <td>Academic</td>\n",
              "    </tr>\n",
              "    <tr>\n",
              "      <th>2</th>\n",
              "      <td>2</td>\n",
              "      <td>268408</td>\n",
              "      <td>02-01-1970</td>\n",
              "      <td>M</td>\n",
              "      <td>4.0</td>\n",
              "      <td>87243835584</td>\n",
              "      <td>268408</td>\n",
              "      <td>13-01-2014</td>\n",
              "      <td>7</td>\n",
              "      <td>5</td>\n",
              "      <td>5</td>\n",
              "      <td>187</td>\n",
              "      <td>98.175</td>\n",
              "      <td>1033.175</td>\n",
              "      <td>TeleShop</td>\n",
              "      <td>both</td>\n",
              "      <td>Books</td>\n",
              "      <td>10</td>\n",
              "      <td>Non-Fiction</td>\n",
              "    </tr>\n",
              "    <tr>\n",
              "      <th>3</th>\n",
              "      <td>3</td>\n",
              "      <td>268408</td>\n",
              "      <td>02-01-1970</td>\n",
              "      <td>M</td>\n",
              "      <td>4.0</td>\n",
              "      <td>87243835584</td>\n",
              "      <td>268408</td>\n",
              "      <td>13-01-2014</td>\n",
              "      <td>7</td>\n",
              "      <td>5</td>\n",
              "      <td>5</td>\n",
              "      <td>187</td>\n",
              "      <td>98.175</td>\n",
              "      <td>1033.175</td>\n",
              "      <td>TeleShop</td>\n",
              "      <td>both</td>\n",
              "      <td>Books</td>\n",
              "      <td>11</td>\n",
              "      <td>Children</td>\n",
              "    </tr>\n",
              "    <tr>\n",
              "      <th>4</th>\n",
              "      <td>4</td>\n",
              "      <td>268408</td>\n",
              "      <td>02-01-1970</td>\n",
              "      <td>M</td>\n",
              "      <td>4.0</td>\n",
              "      <td>87243835584</td>\n",
              "      <td>268408</td>\n",
              "      <td>13-01-2014</td>\n",
              "      <td>7</td>\n",
              "      <td>5</td>\n",
              "      <td>5</td>\n",
              "      <td>187</td>\n",
              "      <td>98.175</td>\n",
              "      <td>1033.175</td>\n",
              "      <td>TeleShop</td>\n",
              "      <td>both</td>\n",
              "      <td>Books</td>\n",
              "      <td>3</td>\n",
              "      <td>Comics</td>\n",
              "    </tr>\n",
              "  </tbody>\n",
              "</table>\n",
              "</div>\n",
              "      <button class=\"colab-df-convert\" onclick=\"convertToInteractive('df-fc8b3f85-b478-40c0-bf85-586eb260ab3e')\"\n",
              "              title=\"Convert this dataframe to an interactive table.\"\n",
              "              style=\"display:none;\">\n",
              "        \n",
              "  <svg xmlns=\"http://www.w3.org/2000/svg\" height=\"24px\"viewBox=\"0 0 24 24\"\n",
              "       width=\"24px\">\n",
              "    <path d=\"M0 0h24v24H0V0z\" fill=\"none\"/>\n",
              "    <path d=\"M18.56 5.44l.94 2.06.94-2.06 2.06-.94-2.06-.94-.94-2.06-.94 2.06-2.06.94zm-11 1L8.5 8.5l.94-2.06 2.06-.94-2.06-.94L8.5 2.5l-.94 2.06-2.06.94zm10 10l.94 2.06.94-2.06 2.06-.94-2.06-.94-.94-2.06-.94 2.06-2.06.94z\"/><path d=\"M17.41 7.96l-1.37-1.37c-.4-.4-.92-.59-1.43-.59-.52 0-1.04.2-1.43.59L10.3 9.45l-7.72 7.72c-.78.78-.78 2.05 0 2.83L4 21.41c.39.39.9.59 1.41.59.51 0 1.02-.2 1.41-.59l7.78-7.78 2.81-2.81c.8-.78.8-2.07 0-2.86zM5.41 20L4 18.59l7.72-7.72 1.47 1.35L5.41 20z\"/>\n",
              "  </svg>\n",
              "      </button>\n",
              "      \n",
              "  <style>\n",
              "    .colab-df-container {\n",
              "      display:flex;\n",
              "      flex-wrap:wrap;\n",
              "      gap: 12px;\n",
              "    }\n",
              "\n",
              "    .colab-df-convert {\n",
              "      background-color: #E8F0FE;\n",
              "      border: none;\n",
              "      border-radius: 50%;\n",
              "      cursor: pointer;\n",
              "      display: none;\n",
              "      fill: #1967D2;\n",
              "      height: 32px;\n",
              "      padding: 0 0 0 0;\n",
              "      width: 32px;\n",
              "    }\n",
              "\n",
              "    .colab-df-convert:hover {\n",
              "      background-color: #E2EBFA;\n",
              "      box-shadow: 0px 1px 2px rgba(60, 64, 67, 0.3), 0px 1px 3px 1px rgba(60, 64, 67, 0.15);\n",
              "      fill: #174EA6;\n",
              "    }\n",
              "\n",
              "    [theme=dark] .colab-df-convert {\n",
              "      background-color: #3B4455;\n",
              "      fill: #D2E3FC;\n",
              "    }\n",
              "\n",
              "    [theme=dark] .colab-df-convert:hover {\n",
              "      background-color: #434B5C;\n",
              "      box-shadow: 0px 1px 3px 1px rgba(0, 0, 0, 0.15);\n",
              "      filter: drop-shadow(0px 1px 2px rgba(0, 0, 0, 0.3));\n",
              "      fill: #FFFFFF;\n",
              "    }\n",
              "  </style>\n",
              "\n",
              "      <script>\n",
              "        const buttonEl =\n",
              "          document.querySelector('#df-fc8b3f85-b478-40c0-bf85-586eb260ab3e button.colab-df-convert');\n",
              "        buttonEl.style.display =\n",
              "          google.colab.kernel.accessAllowed ? 'block' : 'none';\n",
              "\n",
              "        async function convertToInteractive(key) {\n",
              "          const element = document.querySelector('#df-fc8b3f85-b478-40c0-bf85-586eb260ab3e');\n",
              "          const dataTable =\n",
              "            await google.colab.kernel.invokeFunction('convertToInteractive',\n",
              "                                                     [key], {});\n",
              "          if (!dataTable) return;\n",
              "\n",
              "          const docLinkHtml = 'Like what you see? Visit the ' +\n",
              "            '<a target=\"_blank\" href=https://colab.research.google.com/notebooks/data_table.ipynb>data table notebook</a>'\n",
              "            + ' to learn more about interactive tables.';\n",
              "          element.innerHTML = '';\n",
              "          dataTable['output_type'] = 'display_data';\n",
              "          await google.colab.output.renderOutput(dataTable, element);\n",
              "          const docLink = document.createElement('div');\n",
              "          docLink.innerHTML = docLinkHtml;\n",
              "          element.appendChild(docLink);\n",
              "        }\n",
              "      </script>\n",
              "    </div>\n",
              "  </div>\n",
              "  "
            ]
          },
          "metadata": {},
          "execution_count": 6
        }
      ]
    },
    {
      "cell_type": "code",
      "source": [
        "df.info()"
      ],
      "metadata": {
        "colab": {
          "base_uri": "https://localhost:8080/"
        },
        "id": "2ASUYWL-EkFH",
        "outputId": "a93ba401-3a0b-4a21-dbae-2efb87616e5a"
      },
      "execution_count": null,
      "outputs": [
        {
          "output_type": "stream",
          "name": "stdout",
          "text": [
            "<class 'pandas.core.frame.DataFrame'>\n",
            "RangeIndex: 99293 entries, 0 to 99292\n",
            "Data columns (total 19 columns):\n",
            " #   Column             Non-Null Count  Dtype  \n",
            "---  ------             --------------  -----  \n",
            " 0   Unnamed: 0         99293 non-null  int64  \n",
            " 1   customer_Id        99293 non-null  int64  \n",
            " 2   DOB                99293 non-null  object \n",
            " 3   Gender             99253 non-null  object \n",
            " 4   city_code          99257 non-null  float64\n",
            " 5   transaction_id     99293 non-null  int64  \n",
            " 6   cust_id            99293 non-null  int64  \n",
            " 7   tran_date          99293 non-null  object \n",
            " 8   prod_subcat_code   99293 non-null  int64  \n",
            " 9   prod_cat_code      99293 non-null  int64  \n",
            " 10  Qty                99293 non-null  int64  \n",
            " 11  Rate               99293 non-null  int64  \n",
            " 12  Tax                99293 non-null  float64\n",
            " 13  total_amt          99293 non-null  float64\n",
            " 14  Store_type         99293 non-null  object \n",
            " 15  _merge             99293 non-null  object \n",
            " 16  prod_cat           99293 non-null  object \n",
            " 17  prod_sub_cat_code  99293 non-null  int64  \n",
            " 18  prod_subcat        99293 non-null  object \n",
            "dtypes: float64(3), int64(9), object(7)\n",
            "memory usage: 14.4+ MB\n"
          ]
        }
      ]
    },
    {
      "cell_type": "code",
      "source": [],
      "metadata": {
        "id": "HdISrlDlEsYc"
      },
      "execution_count": null,
      "outputs": []
    },
    {
      "cell_type": "markdown",
      "source": [
        "Ans - 1"
      ],
      "metadata": {
        "id": "YlXzlefXE5JC"
      }
    },
    {
      "cell_type": "code",
      "source": [
        "df.head(7)"
      ],
      "metadata": {
        "colab": {
          "base_uri": "https://localhost:8080/",
          "height": 593
        },
        "id": "nr3y0FgxE9i9",
        "outputId": "8864dfac-ba39-44ce-f099-0e8feb9c5de2"
      },
      "execution_count": null,
      "outputs": [
        {
          "output_type": "execute_result",
          "data": {
            "text/plain": [
              "   Unnamed: 0  customer_Id         DOB Gender  city_code  transaction_id  \\\n",
              "0           0       268408  02-01-1970      M        4.0     87243835584   \n",
              "1           1       268408  02-01-1970      M        4.0     87243835584   \n",
              "2           2       268408  02-01-1970      M        4.0     87243835584   \n",
              "3           3       268408  02-01-1970      M        4.0     87243835584   \n",
              "4           4       268408  02-01-1970      M        4.0     87243835584   \n",
              "5           5       268408  02-01-1970      M        4.0     87243835584   \n",
              "6           6       268159  08-01-1970      F        8.0     65867401816   \n",
              "\n",
              "   cust_id   tran_date  prod_subcat_code  prod_cat_code  Qty  Rate      Tax  \\\n",
              "0   268408  13-01-2014                 7              5    5   187   98.175   \n",
              "1   268408  13-01-2014                 7              5    5   187   98.175   \n",
              "2   268408  13-01-2014                 7              5    5   187   98.175   \n",
              "3   268408  13-01-2014                 7              5    5   187   98.175   \n",
              "4   268408  13-01-2014                 7              5    5   187   98.175   \n",
              "5   268408  13-01-2014                 7              5    5   187   98.175   \n",
              "6   268159  31-03-2013                11              5    5   214  112.350   \n",
              "\n",
              "   total_amt Store_type _merge prod_cat  prod_sub_cat_code  prod_subcat  \n",
              "0   1033.175   TeleShop   both    Books                  7      Fiction  \n",
              "1   1033.175   TeleShop   both    Books                 12     Academic  \n",
              "2   1033.175   TeleShop   both    Books                 10  Non-Fiction  \n",
              "3   1033.175   TeleShop   both    Books                 11     Children  \n",
              "4   1033.175   TeleShop   both    Books                  3       Comics  \n",
              "5   1033.175   TeleShop   both    Books                  6          DIY  \n",
              "6   1182.350        MBR   both    Books                  7      Fiction  "
            ],
            "text/html": [
              "\n",
              "  <div id=\"df-783ee23a-d4b4-4bc4-b39a-361f5dd4206e\">\n",
              "    <div class=\"colab-df-container\">\n",
              "      <div>\n",
              "<style scoped>\n",
              "    .dataframe tbody tr th:only-of-type {\n",
              "        vertical-align: middle;\n",
              "    }\n",
              "\n",
              "    .dataframe tbody tr th {\n",
              "        vertical-align: top;\n",
              "    }\n",
              "\n",
              "    .dataframe thead th {\n",
              "        text-align: right;\n",
              "    }\n",
              "</style>\n",
              "<table border=\"1\" class=\"dataframe\">\n",
              "  <thead>\n",
              "    <tr style=\"text-align: right;\">\n",
              "      <th></th>\n",
              "      <th>Unnamed: 0</th>\n",
              "      <th>customer_Id</th>\n",
              "      <th>DOB</th>\n",
              "      <th>Gender</th>\n",
              "      <th>city_code</th>\n",
              "      <th>transaction_id</th>\n",
              "      <th>cust_id</th>\n",
              "      <th>tran_date</th>\n",
              "      <th>prod_subcat_code</th>\n",
              "      <th>prod_cat_code</th>\n",
              "      <th>Qty</th>\n",
              "      <th>Rate</th>\n",
              "      <th>Tax</th>\n",
              "      <th>total_amt</th>\n",
              "      <th>Store_type</th>\n",
              "      <th>_merge</th>\n",
              "      <th>prod_cat</th>\n",
              "      <th>prod_sub_cat_code</th>\n",
              "      <th>prod_subcat</th>\n",
              "    </tr>\n",
              "  </thead>\n",
              "  <tbody>\n",
              "    <tr>\n",
              "      <th>0</th>\n",
              "      <td>0</td>\n",
              "      <td>268408</td>\n",
              "      <td>02-01-1970</td>\n",
              "      <td>M</td>\n",
              "      <td>4.0</td>\n",
              "      <td>87243835584</td>\n",
              "      <td>268408</td>\n",
              "      <td>13-01-2014</td>\n",
              "      <td>7</td>\n",
              "      <td>5</td>\n",
              "      <td>5</td>\n",
              "      <td>187</td>\n",
              "      <td>98.175</td>\n",
              "      <td>1033.175</td>\n",
              "      <td>TeleShop</td>\n",
              "      <td>both</td>\n",
              "      <td>Books</td>\n",
              "      <td>7</td>\n",
              "      <td>Fiction</td>\n",
              "    </tr>\n",
              "    <tr>\n",
              "      <th>1</th>\n",
              "      <td>1</td>\n",
              "      <td>268408</td>\n",
              "      <td>02-01-1970</td>\n",
              "      <td>M</td>\n",
              "      <td>4.0</td>\n",
              "      <td>87243835584</td>\n",
              "      <td>268408</td>\n",
              "      <td>13-01-2014</td>\n",
              "      <td>7</td>\n",
              "      <td>5</td>\n",
              "      <td>5</td>\n",
              "      <td>187</td>\n",
              "      <td>98.175</td>\n",
              "      <td>1033.175</td>\n",
              "      <td>TeleShop</td>\n",
              "      <td>both</td>\n",
              "      <td>Books</td>\n",
              "      <td>12</td>\n",
              "      <td>Academic</td>\n",
              "    </tr>\n",
              "    <tr>\n",
              "      <th>2</th>\n",
              "      <td>2</td>\n",
              "      <td>268408</td>\n",
              "      <td>02-01-1970</td>\n",
              "      <td>M</td>\n",
              "      <td>4.0</td>\n",
              "      <td>87243835584</td>\n",
              "      <td>268408</td>\n",
              "      <td>13-01-2014</td>\n",
              "      <td>7</td>\n",
              "      <td>5</td>\n",
              "      <td>5</td>\n",
              "      <td>187</td>\n",
              "      <td>98.175</td>\n",
              "      <td>1033.175</td>\n",
              "      <td>TeleShop</td>\n",
              "      <td>both</td>\n",
              "      <td>Books</td>\n",
              "      <td>10</td>\n",
              "      <td>Non-Fiction</td>\n",
              "    </tr>\n",
              "    <tr>\n",
              "      <th>3</th>\n",
              "      <td>3</td>\n",
              "      <td>268408</td>\n",
              "      <td>02-01-1970</td>\n",
              "      <td>M</td>\n",
              "      <td>4.0</td>\n",
              "      <td>87243835584</td>\n",
              "      <td>268408</td>\n",
              "      <td>13-01-2014</td>\n",
              "      <td>7</td>\n",
              "      <td>5</td>\n",
              "      <td>5</td>\n",
              "      <td>187</td>\n",
              "      <td>98.175</td>\n",
              "      <td>1033.175</td>\n",
              "      <td>TeleShop</td>\n",
              "      <td>both</td>\n",
              "      <td>Books</td>\n",
              "      <td>11</td>\n",
              "      <td>Children</td>\n",
              "    </tr>\n",
              "    <tr>\n",
              "      <th>4</th>\n",
              "      <td>4</td>\n",
              "      <td>268408</td>\n",
              "      <td>02-01-1970</td>\n",
              "      <td>M</td>\n",
              "      <td>4.0</td>\n",
              "      <td>87243835584</td>\n",
              "      <td>268408</td>\n",
              "      <td>13-01-2014</td>\n",
              "      <td>7</td>\n",
              "      <td>5</td>\n",
              "      <td>5</td>\n",
              "      <td>187</td>\n",
              "      <td>98.175</td>\n",
              "      <td>1033.175</td>\n",
              "      <td>TeleShop</td>\n",
              "      <td>both</td>\n",
              "      <td>Books</td>\n",
              "      <td>3</td>\n",
              "      <td>Comics</td>\n",
              "    </tr>\n",
              "    <tr>\n",
              "      <th>5</th>\n",
              "      <td>5</td>\n",
              "      <td>268408</td>\n",
              "      <td>02-01-1970</td>\n",
              "      <td>M</td>\n",
              "      <td>4.0</td>\n",
              "      <td>87243835584</td>\n",
              "      <td>268408</td>\n",
              "      <td>13-01-2014</td>\n",
              "      <td>7</td>\n",
              "      <td>5</td>\n",
              "      <td>5</td>\n",
              "      <td>187</td>\n",
              "      <td>98.175</td>\n",
              "      <td>1033.175</td>\n",
              "      <td>TeleShop</td>\n",
              "      <td>both</td>\n",
              "      <td>Books</td>\n",
              "      <td>6</td>\n",
              "      <td>DIY</td>\n",
              "    </tr>\n",
              "    <tr>\n",
              "      <th>6</th>\n",
              "      <td>6</td>\n",
              "      <td>268159</td>\n",
              "      <td>08-01-1970</td>\n",
              "      <td>F</td>\n",
              "      <td>8.0</td>\n",
              "      <td>65867401816</td>\n",
              "      <td>268159</td>\n",
              "      <td>31-03-2013</td>\n",
              "      <td>11</td>\n",
              "      <td>5</td>\n",
              "      <td>5</td>\n",
              "      <td>214</td>\n",
              "      <td>112.350</td>\n",
              "      <td>1182.350</td>\n",
              "      <td>MBR</td>\n",
              "      <td>both</td>\n",
              "      <td>Books</td>\n",
              "      <td>7</td>\n",
              "      <td>Fiction</td>\n",
              "    </tr>\n",
              "  </tbody>\n",
              "</table>\n",
              "</div>\n",
              "      <button class=\"colab-df-convert\" onclick=\"convertToInteractive('df-783ee23a-d4b4-4bc4-b39a-361f5dd4206e')\"\n",
              "              title=\"Convert this dataframe to an interactive table.\"\n",
              "              style=\"display:none;\">\n",
              "        \n",
              "  <svg xmlns=\"http://www.w3.org/2000/svg\" height=\"24px\"viewBox=\"0 0 24 24\"\n",
              "       width=\"24px\">\n",
              "    <path d=\"M0 0h24v24H0V0z\" fill=\"none\"/>\n",
              "    <path d=\"M18.56 5.44l.94 2.06.94-2.06 2.06-.94-2.06-.94-.94-2.06-.94 2.06-2.06.94zm-11 1L8.5 8.5l.94-2.06 2.06-.94-2.06-.94L8.5 2.5l-.94 2.06-2.06.94zm10 10l.94 2.06.94-2.06 2.06-.94-2.06-.94-.94-2.06-.94 2.06-2.06.94z\"/><path d=\"M17.41 7.96l-1.37-1.37c-.4-.4-.92-.59-1.43-.59-.52 0-1.04.2-1.43.59L10.3 9.45l-7.72 7.72c-.78.78-.78 2.05 0 2.83L4 21.41c.39.39.9.59 1.41.59.51 0 1.02-.2 1.41-.59l7.78-7.78 2.81-2.81c.8-.78.8-2.07 0-2.86zM5.41 20L4 18.59l7.72-7.72 1.47 1.35L5.41 20z\"/>\n",
              "  </svg>\n",
              "      </button>\n",
              "      \n",
              "  <style>\n",
              "    .colab-df-container {\n",
              "      display:flex;\n",
              "      flex-wrap:wrap;\n",
              "      gap: 12px;\n",
              "    }\n",
              "\n",
              "    .colab-df-convert {\n",
              "      background-color: #E8F0FE;\n",
              "      border: none;\n",
              "      border-radius: 50%;\n",
              "      cursor: pointer;\n",
              "      display: none;\n",
              "      fill: #1967D2;\n",
              "      height: 32px;\n",
              "      padding: 0 0 0 0;\n",
              "      width: 32px;\n",
              "    }\n",
              "\n",
              "    .colab-df-convert:hover {\n",
              "      background-color: #E2EBFA;\n",
              "      box-shadow: 0px 1px 2px rgba(60, 64, 67, 0.3), 0px 1px 3px 1px rgba(60, 64, 67, 0.15);\n",
              "      fill: #174EA6;\n",
              "    }\n",
              "\n",
              "    [theme=dark] .colab-df-convert {\n",
              "      background-color: #3B4455;\n",
              "      fill: #D2E3FC;\n",
              "    }\n",
              "\n",
              "    [theme=dark] .colab-df-convert:hover {\n",
              "      background-color: #434B5C;\n",
              "      box-shadow: 0px 1px 3px 1px rgba(0, 0, 0, 0.15);\n",
              "      filter: drop-shadow(0px 1px 2px rgba(0, 0, 0, 0.3));\n",
              "      fill: #FFFFFF;\n",
              "    }\n",
              "  </style>\n",
              "\n",
              "      <script>\n",
              "        const buttonEl =\n",
              "          document.querySelector('#df-783ee23a-d4b4-4bc4-b39a-361f5dd4206e button.colab-df-convert');\n",
              "        buttonEl.style.display =\n",
              "          google.colab.kernel.accessAllowed ? 'block' : 'none';\n",
              "\n",
              "        async function convertToInteractive(key) {\n",
              "          const element = document.querySelector('#df-783ee23a-d4b4-4bc4-b39a-361f5dd4206e');\n",
              "          const dataTable =\n",
              "            await google.colab.kernel.invokeFunction('convertToInteractive',\n",
              "                                                     [key], {});\n",
              "          if (!dataTable) return;\n",
              "\n",
              "          const docLinkHtml = 'Like what you see? Visit the ' +\n",
              "            '<a target=\"_blank\" href=https://colab.research.google.com/notebooks/data_table.ipynb>data table notebook</a>'\n",
              "            + ' to learn more about interactive tables.';\n",
              "          element.innerHTML = '';\n",
              "          dataTable['output_type'] = 'display_data';\n",
              "          await google.colab.output.renderOutput(dataTable, element);\n",
              "          const docLink = document.createElement('div');\n",
              "          docLink.innerHTML = docLinkHtml;\n",
              "          element.appendChild(docLink);\n",
              "        }\n",
              "      </script>\n",
              "    </div>\n",
              "  </div>\n",
              "  "
            ]
          },
          "metadata": {},
          "execution_count": 8
        }
      ]
    },
    {
      "cell_type": "markdown",
      "source": [],
      "metadata": {
        "id": "kjXEF9K5FIpi"
      }
    },
    {
      "cell_type": "code",
      "source": [
        "import matplotlib.pyplot as plt\n",
        "plt.hist(df['total_amt'], bins=10, color= 'green')\n",
        "plt.xlabel('total_amt')\n",
        "plt.ylabel('Frequency')\n",
        "plt.title('Histogram of Total Amount')\n",
        "plt.show()\n",
        "# Histogram for total amount"
      ],
      "metadata": {
        "colab": {
          "base_uri": "https://localhost:8080/",
          "height": 296
        },
        "id": "UBqU4kW8FBsB",
        "outputId": "aee66d33-68b8-4628-97c3-c58eddcda3fe"
      },
      "execution_count": null,
      "outputs": [
        {
          "output_type": "display_data",
          "data": {
            "text/plain": [
              "<Figure size 432x288 with 1 Axes>"
            ],
            "image/png": "[encoded data removed]"
          },
          "metadata": {
            "needs_background": "light"
          }
        }
      ]
    },
    {
      "cell_type": "markdown",
      "source": [
        "Ans - 2"
      ],
      "metadata": {
        "id": "ljC5OgdnFz9A"
      }
    },
    {
      "cell_type": "code",
      "source": [
        "df3=df.groupby('city_code').count()"
      ],
      "metadata": {
        "id": "XtbYvpdpF1m-"
      },
      "execution_count": null,
      "outputs": []
    },
    {
      "cell_type": "code",
      "source": [
        "df3['count_of_customer']=df3['Unnamed: 0']\n",
        "df3.drop('Unnamed: 0',axis=1,inplace=True)\n",
        "df3"
      ],
      "metadata": {
        "colab": {
          "base_uri": "https://localhost:8080/",
          "height": 458
        },
        "id": "0IIcM7ZWGB7_",
        "outputId": "71944d28-e2ce-43c9-e5b1-8855f3fb6473"
      },
      "execution_count": null,
      "outputs": [
        {
          "output_type": "execute_result",
          "data": {
            "text/plain": [
              "           customer_Id    DOB  Gender  transaction_id  cust_id  tran_date  \\\n",
              "city_code                                                                   \n",
              "1.0               9717   9717    9717            9717     9717       9717   \n",
              "2.0               9843   9843    9822            9843     9843       9843   \n",
              "3.0              10467  10467   10467           10467    10467      10467   \n",
              "4.0              10571  10571   10571           10571    10571      10571   \n",
              "5.0              10116  10116   10116           10116    10116      10116   \n",
              "6.0               9130   9130    9111            9130     9130       9130   \n",
              "7.0              10258  10258   10258           10258    10258      10258   \n",
              "8.0               9965   9965    9965            9965     9965       9965   \n",
              "9.0               9214   9214    9214            9214     9214       9214   \n",
              "10.0              9976   9976    9976            9976     9976       9976   \n",
              "\n",
              "           prod_subcat_code  prod_cat_code    Qty   Rate    Tax  total_amt  \\\n",
              "city_code                                                                    \n",
              "1.0                    9717           9717   9717   9717   9717       9717   \n",
              "2.0                    9843           9843   9843   9843   9843       9843   \n",
              "3.0                   10467          10467  10467  10467  10467      10467   \n",
              "4.0                   10571          10571  10571  10571  10571      10571   \n",
              "5.0                   10116          10116  10116  10116  10116      10116   \n",
              "6.0                    9130           9130   9130   9130   9130       9130   \n",
              "7.0                   10258          10258  10258  10258  10258      10258   \n",
              "8.0                    9965           9965   9965   9965   9965       9965   \n",
              "9.0                    9214           9214   9214   9214   9214       9214   \n",
              "10.0                   9976           9976   9976   9976   9976       9976   \n",
              "\n",
              "           Store_type  _merge  prod_cat  prod_sub_cat_code  prod_subcat  \\\n",
              "city_code                                                                 \n",
              "1.0              9717    9717      9717               9717         9717   \n",
              "2.0              9843    9843      9843               9843         9843   \n",
              "3.0             10467   10467     10467              10467        10467   \n",
              "4.0             10571   10571     10571              10571        10571   \n",
              "5.0             10116   10116     10116              10116        10116   \n",
              "6.0              9130    9130      9130               9130         9130   \n",
              "7.0             10258   10258     10258              10258        10258   \n",
              "8.0              9965    9965      9965               9965         9965   \n",
              "9.0              9214    9214      9214               9214         9214   \n",
              "10.0             9976    9976      9976               9976         9976   \n",
              "\n",
              "           count_of_customer  \n",
              "city_code                     \n",
              "1.0                     9717  \n",
              "2.0                     9843  \n",
              "3.0                    10467  \n",
              "4.0                    10571  \n",
              "5.0                    10116  \n",
              "6.0                     9130  \n",
              "7.0                    10258  \n",
              "8.0                     9965  \n",
              "9.0                     9214  \n",
              "10.0                    9976  "
            ],
            "text/html": [
              "\n",
              "  <div id=\"df-7434f11b-5470-4665-9257-55ee1656be98\">\n",
              "    <div class=\"colab-df-container\">\n",
              "      <div>\n",
              "<style scoped>\n",
              "    .dataframe tbody tr th:only-of-type {\n",
              "        vertical-align: middle;\n",
              "    }\n",
              "\n",
              "    .dataframe tbody tr th {\n",
              "        vertical-align: top;\n",
              "    }\n",
              "\n",
              "    .dataframe thead th {\n",
              "        text-align: right;\n",
              "    }\n",
              "</style>\n",
              "<table border=\"1\" class=\"dataframe\">\n",
              "  <thead>\n",
              "    <tr style=\"text-align: right;\">\n",
              "      <th></th>\n",
              "      <th>customer_Id</th>\n",
              "      <th>DOB</th>\n",
              "      <th>Gender</th>\n",
              "      <th>transaction_id</th>\n",
              "      <th>cust_id</th>\n",
              "      <th>tran_date</th>\n",
              "      <th>prod_subcat_code</th>\n",
              "      <th>prod_cat_code</th>\n",
              "      <th>Qty</th>\n",
              "      <th>Rate</th>\n",
              "      <th>Tax</th>\n",
              "      <th>total_amt</th>\n",
              "      <th>Store_type</th>\n",
              "      <th>_merge</th>\n",
              "      <th>prod_cat</th>\n",
              "      <th>prod_sub_cat_code</th>\n",
              "      <th>prod_subcat</th>\n",
              "      <th>count_of_customer</th>\n",
              "    </tr>\n",
              "    <tr>\n",
              "      <th>city_code</th>\n",
              "      <th></th>\n",
              "      <th></th>\n",
              "      <th></th>\n",
              "      <th></th>\n",
              "      <th></th>\n",
              "      <th></th>\n",
              "      <th></th>\n",
              "      <th></th>\n",
              "      <th></th>\n",
              "      <th></th>\n",
              "      <th></th>\n",
              "      <th></th>\n",
              "      <th></th>\n",
              "      <th></th>\n",
              "      <th></th>\n",
              "      <th></th>\n",
              "      <th></th>\n",
              "      <th></th>\n",
              "    </tr>\n",
              "  </thead>\n",
              "  <tbody>\n",
              "    <tr>\n",
              "      <th>1.0</th>\n",
              "      <td>9717</td>\n",
              "      <td>9717</td>\n",
              "      <td>9717</td>\n",
              "      <td>9717</td>\n",
              "      <td>9717</td>\n",
              "      <td>9717</td>\n",
              "      <td>9717</td>\n",
              "      <td>9717</td>\n",
              "      <td>9717</td>\n",
              "      <td>9717</td>\n",
              "      <td>9717</td>\n",
              "      <td>9717</td>\n",
              "      <td>9717</td>\n",
              "      <td>9717</td>\n",
              "      <td>9717</td>\n",
              "      <td>9717</td>\n",
              "      <td>9717</td>\n",
              "      <td>9717</td>\n",
              "    </tr>\n",
              "    <tr>\n",
              "      <th>2.0</th>\n",
              "      <td>9843</td>\n",
              "      <td>9843</td>\n",
              "      <td>9822</td>\n",
              "      <td>9843</td>\n",
              "      <td>9843</td>\n",
              "      <td>9843</td>\n",
              "      <td>9843</td>\n",
              "      <td>9843</td>\n",
              "      <td>9843</td>\n",
              "      <td>9843</td>\n",
              "      <td>9843</td>\n",
              "      <td>9843</td>\n",
              "      <td>9843</td>\n",
              "      <td>9843</td>\n",
              "      <td>9843</td>\n",
              "      <td>9843</td>\n",
              "      <td>9843</td>\n",
              "      <td>9843</td>\n",
              "    </tr>\n",
              "    <tr>\n",
              "      <th>3.0</th>\n",
              "      <td>10467</td>\n",
              "      <td>10467</td>\n",
              "      <td>10467</td>\n",
              "      <td>10467</td>\n",
              "      <td>10467</td>\n",
              "      <td>10467</td>\n",
              "      <td>10467</td>\n",
              "      <td>10467</td>\n",
              "      <td>10467</td>\n",
              "      <td>10467</td>\n",
              "      <td>10467</td>\n",
              "      <td>10467</td>\n",
              "      <td>10467</td>\n",
              "      <td>10467</td>\n",
              "      <td>10467</td>\n",
              "      <td>10467</td>\n",
              "      <td>10467</td>\n",
              "      <td>10467</td>\n",
              "    </tr>\n",
              "    <tr>\n",
              "      <th>4.0</th>\n",
              "      <td>10571</td>\n",
              "      <td>10571</td>\n",
              "      <td>10571</td>\n",
              "      <td>10571</td>\n",
              "      <td>10571</td>\n",
              "      <td>10571</td>\n",
              "      <td>10571</td>\n",
              "      <td>10571</td>\n",
              "      <td>10571</td>\n",
              "      <td>10571</td>\n",
              "      <td>10571</td>\n",
              "      <td>10571</td>\n",
              "      <td>10571</td>\n",
              "      <td>10571</td>\n",
              "      <td>10571</td>\n",
              "      <td>10571</td>\n",
              "      <td>10571</td>\n",
              "      <td>10571</td>\n",
              "    </tr>\n",
              "    <tr>\n",
              "      <th>5.0</th>\n",
              "      <td>10116</td>\n",
              "      <td>10116</td>\n",
              "      <td>10116</td>\n",
              "      <td>10116</td>\n",
              "      <td>10116</td>\n",
              "      <td>10116</td>\n",
              "      <td>10116</td>\n",
              "      <td>10116</td>\n",
              "      <td>10116</td>\n",
              "      <td>10116</td>\n",
              "      <td>10116</td>\n",
              "      <td>10116</td>\n",
              "      <td>10116</td>\n",
              "      <td>10116</td>\n",
              "      <td>10116</td>\n",
              "      <td>10116</td>\n",
              "      <td>10116</td>\n",
              "      <td>10116</td>\n",
              "    </tr>\n",
              "    <tr>\n",
              "      <th>6.0</th>\n",
              "      <td>9130</td>\n",
              "      <td>9130</td>\n",
              "      <td>9111</td>\n",
              "      <td>9130</td>\n",
              "      <td>9130</td>\n",
              "      <td>9130</td>\n",
              "      <td>9130</td>\n",
              "      <td>9130</td>\n",
              "      <td>9130</td>\n",
              "      <td>9130</td>\n",
              "      <td>9130</td>\n",
              "      <td>9130</td>\n",
              "      <td>9130</td>\n",
              "      <td>9130</td>\n",
              "      <td>9130</td>\n",
              "      <td>9130</td>\n",
              "      <td>9130</td>\n",
              "      <td>9130</td>\n",
              "    </tr>\n",
              "    <tr>\n",
              "      <th>7.0</th>\n",
              "      <td>10258</td>\n",
              "      <td>10258</td>\n",
              "      <td>10258</td>\n",
              "      <td>10258</td>\n",
              "      <td>10258</td>\n",
              "      <td>10258</td>\n",
              "      <td>10258</td>\n",
              "      <td>10258</td>\n",
              "      <td>10258</td>\n",
              "      <td>10258</td>\n",
              "      <td>10258</td>\n",
              "      <td>10258</td>\n",
              "      <td>10258</td>\n",
              "      <td>10258</td>\n",
              "      <td>10258</td>\n",
              "      <td>10258</td>\n",
              "      <td>10258</td>\n",
              "      <td>10258</td>\n",
              "    </tr>\n",
              "    <tr>\n",
              "      <th>8.0</th>\n",
              "      <td>9965</td>\n",
              "      <td>9965</td>\n",
              "      <td>9965</td>\n",
              "      <td>9965</td>\n",
              "      <td>9965</td>\n",
              "      <td>9965</td>\n",
              "      <td>9965</td>\n",
              "      <td>9965</td>\n",
              "      <td>9965</td>\n",
              "      <td>9965</td>\n",
              "      <td>9965</td>\n",
              "      <td>9965</td>\n",
              "      <td>9965</td>\n",
              "      <td>9965</td>\n",
              "      <td>9965</td>\n",
              "      <td>9965</td>\n",
              "      <td>9965</td>\n",
              "      <td>9965</td>\n",
              "    </tr>\n",
              "    <tr>\n",
              "      <th>9.0</th>\n",
              "      <td>9214</td>\n",
              "      <td>9214</td>\n",
              "      <td>9214</td>\n",
              "      <td>9214</td>\n",
              "      <td>9214</td>\n",
              "      <td>9214</td>\n",
              "      <td>9214</td>\n",
              "      <td>9214</td>\n",
              "      <td>9214</td>\n",
              "      <td>9214</td>\n",
              "      <td>9214</td>\n",
              "      <td>9214</td>\n",
              "      <td>9214</td>\n",
              "      <td>9214</td>\n",
              "      <td>9214</td>\n",
              "      <td>9214</td>\n",
              "      <td>9214</td>\n",
              "      <td>9214</td>\n",
              "    </tr>\n",
              "    <tr>\n",
              "      <th>10.0</th>\n",
              "      <td>9976</td>\n",
              "      <td>9976</td>\n",
              "      <td>9976</td>\n",
              "      <td>9976</td>\n",
              "      <td>9976</td>\n",
              "      <td>9976</td>\n",
              "      <td>9976</td>\n",
              "      <td>9976</td>\n",
              "      <td>9976</td>\n",
              "      <td>9976</td>\n",
              "      <td>9976</td>\n",
              "      <td>9976</td>\n",
              "      <td>9976</td>\n",
              "      <td>9976</td>\n",
              "      <td>9976</td>\n",
              "      <td>9976</td>\n",
              "      <td>9976</td>\n",
              "      <td>9976</td>\n",
              "    </tr>\n",
              "  </tbody>\n",
              "</table>\n",
              "</div>\n",
              "      <button class=\"colab-df-convert\" onclick=\"convertToInteractive('df-7434f11b-5470-4665-9257-55ee1656be98')\"\n",
              "              title=\"Convert this dataframe to an interactive table.\"\n",
              "              style=\"display:none;\">\n",
              "        \n",
              "  <svg xmlns=\"http://www.w3.org/2000/svg\" height=\"24px\"viewBox=\"0 0 24 24\"\n",
              "       width=\"24px\">\n",
              "    <path d=\"M0 0h24v24H0V0z\" fill=\"none\"/>\n",
              "    <path d=\"M18.56 5.44l.94 2.06.94-2.06 2.06-.94-2.06-.94-.94-2.06-.94 2.06-2.06.94zm-11 1L8.5 8.5l.94-2.06 2.06-.94-2.06-.94L8.5 2.5l-.94 2.06-2.06.94zm10 10l.94 2.06.94-2.06 2.06-.94-2.06-.94-.94-2.06-.94 2.06-2.06.94z\"/><path d=\"M17.41 7.96l-1.37-1.37c-.4-.4-.92-.59-1.43-.59-.52 0-1.04.2-1.43.59L10.3 9.45l-7.72 7.72c-.78.78-.78 2.05 0 2.83L4 21.41c.39.39.9.59 1.41.59.51 0 1.02-.2 1.41-.59l7.78-7.78 2.81-2.81c.8-.78.8-2.07 0-2.86zM5.41 20L4 18.59l7.72-7.72 1.47 1.35L5.41 20z\"/>\n",
              "  </svg>\n",
              "      </button>\n",
              "      \n",
              "  <style>\n",
              "    .colab-df-container {\n",
              "      display:flex;\n",
              "      flex-wrap:wrap;\n",
              "      gap: 12px;\n",
              "    }\n",
              "\n",
              "    .colab-df-convert {\n",
              "      background-color: #E8F0FE;\n",
              "      border: none;\n",
              "      border-radius: 50%;\n",
              "      cursor: pointer;\n",
              "      display: none;\n",
              "      fill: #1967D2;\n",
              "      height: 32px;\n",
              "      padding: 0 0 0 0;\n",
              "      width: 32px;\n",
              "    }\n",
              "\n",
              "    .colab-df-convert:hover {\n",
              "      background-color: #E2EBFA;\n",
              "      box-shadow: 0px 1px 2px rgba(60, 64, 67, 0.3), 0px 1px 3px 1px rgba(60, 64, 67, 0.15);\n",
              "      fill: #174EA6;\n",
              "    }\n",
              "\n",
              "    [theme=dark] .colab-df-convert {\n",
              "      background-color: #3B4455;\n",
              "      fill: #D2E3FC;\n",
              "    }\n",
              "\n",
              "    [theme=dark] .colab-df-convert:hover {\n",
              "      background-color: #434B5C;\n",
              "      box-shadow: 0px 1px 3px 1px rgba(0, 0, 0, 0.15);\n",
              "      filter: drop-shadow(0px 1px 2px rgba(0, 0, 0, 0.3));\n",
              "      fill: #FFFFFF;\n",
              "    }\n",
              "  </style>\n",
              "\n",
              "      <script>\n",
              "        const buttonEl =\n",
              "          document.querySelector('#df-7434f11b-5470-4665-9257-55ee1656be98 button.colab-df-convert');\n",
              "        buttonEl.style.display =\n",
              "          google.colab.kernel.accessAllowed ? 'block' : 'none';\n",
              "\n",
              "        async function convertToInteractive(key) {\n",
              "          const element = document.querySelector('#df-7434f11b-5470-4665-9257-55ee1656be98');\n",
              "          const dataTable =\n",
              "            await google.colab.kernel.invokeFunction('convertToInteractive',\n",
              "                                                     [key], {});\n",
              "          if (!dataTable) return;\n",
              "\n",
              "          const docLinkHtml = 'Like what you see? Visit the ' +\n",
              "            '<a target=\"_blank\" href=https://colab.research.google.com/notebooks/data_table.ipynb>data table notebook</a>'\n",
              "            + ' to learn more about interactive tables.';\n",
              "          element.innerHTML = '';\n",
              "          dataTable['output_type'] = 'display_data';\n",
              "          await google.colab.output.renderOutput(dataTable, element);\n",
              "          const docLink = document.createElement('div');\n",
              "          docLink.innerHTML = docLinkHtml;\n",
              "          element.appendChild(docLink);\n",
              "        }\n",
              "      </script>\n",
              "    </div>\n",
              "  </div>\n",
              "  "
            ]
          },
          "metadata": {},
          "execution_count": 12
        }
      ]
    },
    {
      "cell_type": "code",
      "source": [
        "df5=df3.groupby('city_code')['count_of_customer'].max()\n"
      ],
      "metadata": {
        "id": "BAGQBcf0GMjx"
      },
      "execution_count": null,
      "outputs": []
    },
    {
      "cell_type": "code",
      "source": [
        "df5"
      ],
      "metadata": {
        "colab": {
          "base_uri": "https://localhost:8080/"
        },
        "id": "h05U9X-JGPEG",
        "outputId": "778e6e49-007c-4faf-93a4-da46d23c8a43"
      },
      "execution_count": null,
      "outputs": [
        {
          "output_type": "execute_result",
          "data": {
            "text/plain": [
              "city_code\n",
              "1.0      9717\n",
              "2.0      9843\n",
              "3.0     10467\n",
              "4.0     10571\n",
              "5.0     10116\n",
              "6.0      9130\n",
              "7.0     10258\n",
              "8.0      9965\n",
              "9.0      9214\n",
              "10.0     9976\n",
              "Name: count_of_customer, dtype: int64"
            ]
          },
          "metadata": {},
          "execution_count": 14
        }
      ]
    },
    {
      "cell_type": "code",
      "source": [
        "max(df5)"
      ],
      "metadata": {
        "colab": {
          "base_uri": "https://localhost:8080/"
        },
        "id": "nCQ9WHXZGXNK",
        "outputId": "d667a2e0-b63b-4278-cedd-a885c95a214c"
      },
      "execution_count": null,
      "outputs": [
        {
          "output_type": "execute_result",
          "data": {
            "text/plain": [
              "10571"
            ]
          },
          "metadata": {},
          "execution_count": 15
        }
      ]
    },
    {
      "cell_type": "code",
      "source": [
        "df7=dict(df5)"
      ],
      "metadata": {
        "id": "hiXDOi-fGcmA"
      },
      "execution_count": null,
      "outputs": []
    },
    {
      "cell_type": "code",
      "source": [
        "df8 = {k:v for k, v in df7.items() if v== max(df5)}"
      ],
      "metadata": {
        "id": "4D1X5zzyGgwy"
      },
      "execution_count": null,
      "outputs": []
    },
    {
      "cell_type": "code",
      "source": [
        "df8"
      ],
      "metadata": {
        "colab": {
          "base_uri": "https://localhost:8080/"
        },
        "id": "nInSYUafGkxE",
        "outputId": "0ef3b0be-f9ba-479c-8545-60980f637041"
      },
      "execution_count": null,
      "outputs": [
        {
          "output_type": "execute_result",
          "data": {
            "text/plain": [
              "{4.0: 10571}"
            ]
          },
          "metadata": {},
          "execution_count": 18
        }
      ]
    },
    {
      "cell_type": "code",
      "source": [
        "print(f'City Code {list(df8.keys())} has max customers {list(df8.values())}')"
      ],
      "metadata": {
        "colab": {
          "base_uri": "https://localhost:8080/"
        },
        "id": "KlxUG4FHGpzx",
        "outputId": "6866e853-c323-4744-be86-3bbef49563f1"
      },
      "execution_count": null,
      "outputs": [
        {
          "output_type": "stream",
          "name": "stdout",
          "text": [
            "City Code [4.0] has max customers [10571]\n"
          ]
        }
      ]
    },
    {
      "cell_type": "markdown",
      "source": [
        "Ans - 3"
      ],
      "metadata": {
        "id": "SKQxz1lfG4zX"
      }
    },
    {
      "cell_type": "code",
      "source": [
        "# Select rows where total_amount is negative\n",
        "negative_total_amounts = df.loc[df['total_amt'] < 0]"
      ],
      "metadata": {
        "id": "AdScY67oG-qS"
      },
      "execution_count": null,
      "outputs": []
    },
    {
      "cell_type": "code",
      "source": [
        "# Count the number of rows where total_amount is negative\n",
        "num_negative_total_amounts = negative_total_amounts.shape[0]"
      ],
      "metadata": {
        "id": "9gIjKRXyHIgN"
      },
      "execution_count": null,
      "outputs": []
    },
    {
      "cell_type": "code",
      "source": [
        "# Print the result\n",
        "print(\"Number of negative total amounts: \", num_negative_total_amounts)"
      ],
      "metadata": {
        "colab": {
          "base_uri": "https://localhost:8080/"
        },
        "id": "XEdduUbfHNXg",
        "outputId": "8b833947-996a-4c36-cce3-202dcc342937"
      },
      "execution_count": null,
      "outputs": [
        {
          "output_type": "stream",
          "name": "stdout",
          "text": [
            "Number of negative total amounts:  9294\n"
          ]
        }
      ]
    },
    {
      "cell_type": "markdown",
      "source": [
        "Ans - 4"
      ],
      "metadata": {
        "id": "SMiP6Td4HWXH"
      }
    },
    {
      "cell_type": "code",
      "source": [
        "df2=df[(df['Gender'] == 'F') & (df['prod_cat'] == 'Home and kitchen')]['total_amt'].sum()"
      ],
      "metadata": {
        "id": "stJqVPyxHcgW"
      },
      "execution_count": null,
      "outputs": []
    },
    {
      "cell_type": "code",
      "source": [
        "home_and_kitchen_category=df2"
      ],
      "metadata": {
        "id": "eQKr5i5_H6Ei"
      },
      "execution_count": null,
      "outputs": []
    },
    {
      "cell_type": "code",
      "source": [
        "print(f'Total amount earned from female customers under home and kitchen category is {home_and_kitchen_category}')"
      ],
      "metadata": {
        "colab": {
          "base_uri": "https://localhost:8080/"
        },
        "id": "nQlqZFn3H_z-",
        "outputId": "fd2f5496-179b-46e0-9c91-c8bdea6ac2bf"
      },
      "execution_count": null,
      "outputs": [
        {
          "output_type": "stream",
          "name": "stdout",
          "text": [
            "Total amount earned from female customers under home and kitchen category is 16528709.34\n"
          ]
        }
      ]
    },
    {
      "cell_type": "markdown",
      "source": [
        "Ans - 5"
      ],
      "metadata": {
        "id": "ywkEQYp_IK37"
      }
    },
    {
      "cell_type": "code",
      "source": [
        "df[\"prod_cat\"].unique() \n",
        "# Finding unique categories in this category of product"
      ],
      "metadata": {
        "colab": {
          "base_uri": "https://localhost:8080/"
        },
        "id": "2ace6VZiIMVt",
        "outputId": "88f609a5-b5d2-4a75-fd8d-6d72c7a6d129"
      },
      "execution_count": null,
      "outputs": [
        {
          "output_type": "execute_result",
          "data": {
            "text/plain": [
              "array(['Books', 'Bags', 'Home and kitchen', 'Footwear', 'Electronics',\n",
              "       'Clothing'], dtype=object)"
            ]
          },
          "metadata": {},
          "execution_count": 27
        }
      ]
    },
    {
      "cell_type": "code",
      "source": [
        "df1=df.groupby('prod_cat')['total_amt'].sum()\n",
        "# checking total earned amount of cateogories in prod_cat by using groupby"
      ],
      "metadata": {
        "id": "OjqKtsU2Ierb"
      },
      "execution_count": null,
      "outputs": []
    },
    {
      "cell_type": "code",
      "source": [
        "df1"
      ],
      "metadata": {
        "colab": {
          "base_uri": "https://localhost:8080/"
        },
        "id": "7-UtgdwPIlJ6",
        "outputId": "6691b602-b3fc-4e00-aa1b-ea10899458f1"
      },
      "execution_count": null,
      "outputs": [
        {
          "output_type": "execute_result",
          "data": {
            "text/plain": [
              "prod_cat\n",
              "Bags                8.249417e+06\n",
              "Books               7.693616e+07\n",
              "Clothing            1.875341e+07\n",
              "Electronics         5.361232e+07\n",
              "Footwear            1.865932e+07\n",
              "Home and kitchen    3.375597e+07\n",
              "Name: total_amt, dtype: float64"
            ]
          },
          "metadata": {},
          "execution_count": 29
        }
      ]
    },
    {
      "cell_type": "markdown",
      "source": [
        "**Project completed by NUPUR CHUGH**"
      ],
      "metadata": {
        "id": "KxPdQjm_LUGC"
      }
    }
  ]
}